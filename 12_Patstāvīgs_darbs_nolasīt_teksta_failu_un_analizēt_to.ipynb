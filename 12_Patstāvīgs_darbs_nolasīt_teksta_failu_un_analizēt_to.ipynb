{
  "nbformat": 4,
  "nbformat_minor": 0,
  "metadata": {
    "colab": {
      "name": "12. Patstāvīgs darbs - nolasīt teksta failu un analizēt to.ipynb",
      "provenance": [],
      "collapsed_sections": [],
      "toc_visible": true,
      "authorship_tag": "ABX9TyMjmRHEtpfJm0SSN/FA1MiK",
      "include_colab_link": true
    },
    "kernelspec": {
      "name": "python3",
      "display_name": "Python 3"
    }
  },
  "cells": [
    {
      "cell_type": "markdown",
      "metadata": {
        "id": "view-in-github",
        "colab_type": "text"
      },
      "source": [
        "<a href=\"https://colab.research.google.com/github/Narusi/Python-Kurss/blob/master/12_Patst%C4%81v%C4%ABgs_darbs_nolas%C4%ABt_teksta_failu_un_analiz%C4%93t_to.ipynb\" target=\"_parent\"><img src=\"https://colab.research.google.com/assets/colab-badge.svg\" alt=\"Open In Colab\"/></a>"
      ]
    },
    {
      "cell_type": "markdown",
      "metadata": {
        "id": "0cxEfB7fnzqp",
        "colab_type": "text"
      },
      "source": [
        "# 1. Uzdevums analizēt Veidenbauma dzeju\n",
        "\n",
        "Lejuplādejam texta failu no šejienes -> Save As\n",
        "\n",
        "https://raw.githubusercontent.com/ValRCS/Python_RTU_08_20/master/data/veidenbaums.txt\n",
        "\n",
        "Var arī vienkārši git pull visam repozitorijam:<br>\n",
        "https://github.com/ValRCS/Python_RTU_08_20\n"
      ]
    },
    {
      "cell_type": "code",
      "metadata": {
        "id": "rL84rDs2nNjC",
        "colab_type": "code",
        "colab": {
          "base_uri": "https://localhost:8080/",
          "height": 476
        },
        "outputId": "5b711353-a9a9-45b1-9bc2-469c9c9eb060"
      },
      "source": [
        "import requests\n",
        "\n",
        "melnraksts = requests.get(\"https://raw.githubusercontent.com/ValRCS/Python_RTU_08_20/master/data/veidenbaums.txt\").text.split('\\n')\n",
        "veidenbaums = []\n",
        "titles = []\n",
        "for line in melnraksts:\n",
        "    if len(line) > 1:\n",
        "        veidenbaums.append(line)\n",
        "        if line[-3:] == '***':\n",
        "            titles.append(veidenbaums.index(line))\n",
        "\n",
        "with open('Veidenbauma Dzeja.txt','w', encoding='utf-8') as f:\n",
        "    for line in veidenbaums:        \n",
        "        f.write(line + '\\r')\n",
        "\n",
        "with open('veidenbaums.txt', 'w', encoding='utf-8') as f:\n",
        "    for line in melnraksts:\n",
        "        f.write(line + '\\r')\n",
        "\n",
        "print('Iekļautie Vedenbauma dzejoļi:')\n",
        "for i in titles:\n",
        "    print(' * ' + veidenbaums[i][:-3])\n",
        "\n",
        "melnraksts = []\n",
        "veidenbaums = []\n",
        "titles = []"
      ],
      "execution_count": 49,
      "outputs": [
        {
          "output_type": "stream",
          "text": [
            "Iekļautie Vedenbauma dzejoļi:\n",
            " * Pēc ideāliem cenšas lielie gari\n",
            " * Virs zemes nav taisnības\n",
            " * Ar šīs zemes varenajiem\n",
            " * Domāju es domas dziļas\n",
            " * Daudz prātīgu cilvēku pasaulē \n",
            " * Ej un dzenies tik pēc naudas\n",
            " * Mefistofeļa padoms\n",
            " * Mums latviešiem, dzejnieku \n",
            " * gribi tikt pie labas vietas\n",
            " * Nu tu vari palīgsmoties\n",
            " * Reiz zaļoja jaunība\n",
            " * Iedzer, brāli!\n",
            " * Grāmatu kaudzes\n",
            " * Kā gulbji balti padebeši \n",
            " * Es domāju, ka pasaulē\n",
            " * Viss atriebies, apnicis \n",
            " * Viss ir joks, par visu \n",
            " * Kuļos es kā pliks pa \n",
            " * Vai senatnē vien tikai \n",
            " * Īsts filozofs nav pesimists\n",
            " * Vēl neesmu dubļos tik dziļi es stidzis\n",
            " * Vēl desmit divdesmit \n",
            " * Nost reiz skumjību sviedīšu \n",
            " * Mosties, mosties, reiz, svabadais \n",
            " * Kur klusā naktī lakstīgalas \n",
            " * Kas staigājot pa košām puķu \n"
          ],
          "name": "stdout"
        }
      ]
    },
    {
      "cell_type": "markdown",
      "metadata": {
        "id": "YizLyUeHpEAw",
        "colab_type": "text"
      },
      "source": [
        "## 1a -> uzrakstam funkciju file_line_len(fpath), kas atgriež rindiņu skaitu failā\n",
        "pārbaudam file_line_len(\"veidenbaums.txt\") -> vajadzētu būt 971<br>\n",
        "Iespējams jums veidenbaums.txt nebūs tajā pašā mapē, tad lietojam relatīvo ceļu uz failu.<br>\n"
      ]
    },
    {
      "cell_type": "code",
      "metadata": {
        "id": "-MNzDTj7pFW2",
        "colab_type": "code",
        "colab": {
          "base_uri": "https://localhost:8080/",
          "height": 34
        },
        "outputId": "138eceb7-8978-4ddd-cc19-dae568be671f"
      },
      "source": [
        "def file_line_len(fpath):\n",
        "    return len(open(fpath,'r').readlines())\n",
        "\n",
        "file_line_len(\"veidenbaums.txt\")"
      ],
      "execution_count": 50,
      "outputs": [
        {
          "output_type": "execute_result",
          "data": {
            "text/plain": [
              "972"
            ]
          },
          "metadata": {
            "tags": []
          },
          "execution_count": 50
        }
      ]
    },
    {
      "cell_type": "markdown",
      "metadata": {
        "id": "OUJne0fepFzC",
        "colab_type": "text"
      },
      "source": [
        "## 1b -> uzrakstam funkciju get_poem_lines(fpath)\n",
        "get_poem_lines(fpath) atgriež list ar tikai tām rindiņām kurās ir dzeja.<br>\n",
        "Tātad mums nederēs rindiņas bez teksta un nederēs dzejoļu virksraksti.\n",
        "PS vēlams izmantot encoding = \"utf-8\"a<br>\n"
      ]
    },
    {
      "cell_type": "code",
      "metadata": {
        "id": "XA9XBSc2pHCl",
        "colab_type": "code",
        "colab": {}
      },
      "source": [
        "def get_poem_lines(fpath):\n",
        "    poem = open(fpath, 'r', encoding='utf-8').readlines()\n",
        "    poem_lines = []\n",
        "\n",
        "    for line in poem:\n",
        "        txtLine = line.replace('\\n','')\n",
        "        if len(txtLine) > 1 and txtLine[-3:] != '***' and txtLine.find('(') < 0:\n",
        "            poem_lines.append(txtLine)\n",
        "    return poem_lines\n"
      ],
      "execution_count": 57,
      "outputs": []
    },
    {
      "cell_type": "markdown",
      "metadata": {
        "id": "pMJz0Xy9pHnp",
        "colab_type": "text"
      },
      "source": [
        "## 1c -> uzrakstam funkciju save_lines(destpath, lines)<br>\n",
        "Šī funkcija noglabās destpath faila ceļā(tātad fails vai fails ar ceļu), visas lines<br>\n"
      ]
    },
    {
      "cell_type": "code",
      "metadata": {
        "id": "fIaKX_sjpIuG",
        "colab_type": "code",
        "colab": {}
      },
      "source": [
        "def save_lines(destpath, lines):\n",
        "    with open(destpath, 'w', encoding='utf-8') as f:\n",
        "        for line in lines:\n",
        "            f.write(line + '\\r')\n",
        "    pass"
      ],
      "execution_count": 58,
      "outputs": []
    },
    {
      "cell_type": "markdown",
      "metadata": {
        "id": "X4JGB2bVpJKt",
        "colab_type": "text"
      },
      "source": [
        "## 1d -> izsaucam get_poem_lines uz veidenbaums.txt\n",
        "Un rezultātu saglabājam veidenbaums_poems.txt (turpat kur ir jau veidenbaums) izmantojot save_lines funkciju<br>\n"
      ]
    },
    {
      "cell_type": "code",
      "metadata": {
        "id": "TcqhbYm-pKXf",
        "colab_type": "code",
        "colab": {}
      },
      "source": [
        "import os\n",
        "\n",
        "save_lines(os.getcwd() + '/veidenbaums_poems.txt', get_poem_lines(\"veidenbaums.txt\"))"
      ],
      "execution_count": 62,
      "outputs": []
    },
    {
      "cell_type": "markdown",
      "metadata": {
        "id": "zfYelYJGpKy1",
        "colab_type": "text"
      },
      "source": [
        "## 1e -> uzrakstam funkciju clean_punkts(srcpath,destpath)<br>\n",
        "funkcija atvērs srcpath failu, attīrīs to no https://docs.python.org/3/library/string.html#string.punctuation un saglabās destpath \n",
        "izsaucam uz veidenbaums_poems.txt un destpath būs veidenbaums_no_punkts.txt<br>\n",
        "Droši vien nepietiks laika bet pamēģinam pa brīvdienām<br>\n"
      ]
    },
    {
      "cell_type": "code",
      "metadata": {
        "id": "YWH9Go2UpMJ3",
        "colab_type": "code",
        "colab": {}
      },
      "source": [
        "def clean_punkts(srcpath, destpath):\n",
        "    import string\n",
        "    \n",
        "    with open(destpath, 'w', encoding='utf-8') as f:\n",
        "        for line in open(srcpath, 'r', encoding='utf-8').readlines():\n",
        "            line = line.replace('\\n','')\n",
        "            if set(string.punctuation) & set(line):\n",
        "                for i in string.punctuation:\n",
        "                    if i in line:\n",
        "                        line = line.replace(i,'')            \n",
        "            if len(line) > 0: f.write(line + '\\r');            \n",
        "    pass\n",
        "\n",
        "clean_punkts('veidenbaums_poems.txt', 'veidenbaums_no_punkts.txt')"
      ],
      "execution_count": 71,
      "outputs": []
    },
    {
      "cell_type": "markdown",
      "metadata": {
        "id": "qe4p6VahpMwc",
        "colab_type": "text"
      },
      "source": [
        "## 1f -> uzrakstam funkciju get_word_usage(srcpath, destpath)\n",
        "funkcija atver failu un atrod biežāk lietotos vārdus<br>\n",
        "ieteikums izmantot Counter moduli !<br>\n",
        "uzskatīsim, ka vārdi tiek atdalīti vai nu ar whitespace vai newline (vecais labais split noderēs)<br><br>\n",
        "populārāku vārdu sarakstu ar lietojuma biežumu saglabājam destpath<br>\n",
        "Varam tagad pārbaudīt rezultātus gan uz veidenbaums_no_punkts.txt, gan uz veidenbaums_poems.txt"
      ]
    },
    {
      "cell_type": "code",
      "metadata": {
        "id": "SEYKq61WpNZa",
        "colab_type": "code",
        "colab": {
          "base_uri": "https://localhost:8080/",
          "height": 765
        },
        "outputId": "7012e1a1-a6f2-42b8-efa7-3db1157e103f"
      },
      "source": [
        "def get_word_usage(srcpath, destpath=''):\n",
        "    import collections\n",
        "    import pandas as pd\n",
        "\n",
        "    c = collections.Counter()\n",
        "    words = []\n",
        "    for line in open('veidenbaums_no_punkts.txt','r').readlines():\n",
        "        line = line.replace('\\n','').lower()\n",
        "\n",
        "        if len(line.split(' ')) > 1:\n",
        "            for word in line.split(' '):\n",
        "                if len(word) > 1:\n",
        "                    words.append(word)\n",
        "        elif line != ' ':\n",
        "            words.append(line)\n",
        "    \n",
        "    pop_words = pd.Series(collections.Counter(words)).sort_values(ascending=False).head(20)\n",
        "    pop_words.name = 'Skaits'\n",
        "    pop_words.index.name = 'Vārds'\n",
        "    \n",
        "    if len(destpath) > 3: \n",
        "        pop_words.to_csv(destpath, sep=':')\n",
        "    \n",
        "    return pop_words\n",
        "\n",
        "print(get_word_usage('veidenbaums_no_punkts.txt', 'Veidenbauma_vārdu_lietojums.txt'))\n",
        "print(get_word_usage('veidenbaums_poems.txt'))"
      ],
      "execution_count": 107,
      "outputs": [
        {
          "output_type": "stream",
          "text": [
            "Vārds\n",
            "un      76\n",
            "ir      24\n",
            "tu      21\n",
            "vēl     21\n",
            "tik     21\n",
            "bet     15\n",
            "kas     15\n",
            "nav     14\n",
            "man     14\n",
            "kā      13\n",
            "kur     13\n",
            "par     13\n",
            "lai     12\n",
            "pēc     11\n",
            "ar      11\n",
            "kam     11\n",
            "tev     11\n",
            "tie     10\n",
            "reiz    10\n",
            "uz      10\n",
            "Name: Skaits, dtype: int64\n",
            "Vārds\n",
            "un      76\n",
            "ir      24\n",
            "tu      21\n",
            "vēl     21\n",
            "tik     21\n",
            "bet     15\n",
            "kas     15\n",
            "nav     14\n",
            "man     14\n",
            "kā      13\n",
            "kur     13\n",
            "par     13\n",
            "lai     12\n",
            "pēc     11\n",
            "ar      11\n",
            "kam     11\n",
            "tev     11\n",
            "tie     10\n",
            "reiz    10\n",
            "uz      10\n",
            "Name: Skaits, dtype: int64\n"
          ],
          "name": "stdout"
        }
      ]
    }
  ]
}