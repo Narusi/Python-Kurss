{
  "nbformat": 4,
  "nbformat_minor": 0,
  "metadata": {
    "colab": {
      "name": "Classes - Pastāvīgais darbs.ipynb",
      "provenance": [],
      "collapsed_sections": [],
      "authorship_tag": "ABX9TyMSA9WbdjouXaNF/X9pHkhb",
      "include_colab_link": true
    },
    "kernelspec": {
      "name": "python3",
      "display_name": "Python 3"
    }
  },
  "cells": [
    {
      "cell_type": "markdown",
      "metadata": {
        "id": "view-in-github",
        "colab_type": "text"
      },
      "source": [
        "<a href=\"https://colab.research.google.com/github/Narusi/Python-Kurss/blob/master/Classes_Past%C4%81v%C4%ABgais_darbs.ipynb\" target=\"_parent\"><img src=\"https://colab.research.google.com/assets/colab-badge.svg\" alt=\"Open In Colab\"/></a>"
      ]
    },
    {
      "cell_type": "markdown",
      "metadata": {
        "id": "p_5_I64iShyF",
        "colab_type": "text"
      },
      "source": [
        "# Classes - Pastāvīgais darbs (klasē....)"
      ]
    },
    {
      "cell_type": "markdown",
      "metadata": {
        "id": "bxM5INEvSo2m",
        "colab_type": "text"
      },
      "source": [
        "## Definējiet klasi Song\n",
        "\n",
        "Klases construktora vajag būt trīs papildu 3 parametriem(self un vēl 3!):<br>\n",
        "<li>title pēc noklusējuma tukša string\n",
        "<li>author pēc noklusējuma tukšs string\n",
        "<li>lyrics pēc noklusējuma tukšs tuple\n",
        "\n",
        "Konstruktors saglabātu šos trīs parametrus un papildu izdrukātu uz ekrāna <i>\"New Song made\"</i> - (pamēģiniet arī izdrukāt šeit author un title!)\n",
        "\n",
        "*   Uzrakstiet metodi sing kas izdrukā dziesmu pa rindiņai uz ekrāna, vispirms izdrukājot autoru un title, ja tie ir.\n",
        "*   Uzrakstiet metodi yell kas izdrukā dziesmu ar lieliem burtiem pa rindiņai uz ekrāna, vispirms izdrukājot autoru un title, ja tie ir.<br>\n",
        "* Bonuss: uztaisiet lai sing un yell varam izsaukt vairākas reizes (ķēdejot)<br>\n",
        "* Bonuss: uztaisiet papildu parametru <b>max_lines</b>, kas izdrukā tikai noteiktu rindiņu skaitu gan sing gan yell. Labāk taisiet ar kādu default vērtību piem. -1 , pie kuras tad izdrukā visas rindas.<br>\n",
        "\n",
        "\n",
        "Par ķēdēšano bija šeit: https://www.das.lv/platforma/mod/page/view.php?id=690<br>\n",
        "Izveidojiet vairākas dziesmas ar dziesmu tekstiem. Piemērs:\n",
        "\n",
        "\n",
        "```\n",
        "ziemelmeita = Song(\"Ziemeļmeita\", \"Jumprava\", [\"Gāju meklēt ziemeļmeitu\",\"Garu, tālu ceļu veicu\"])\n",
        "ziemelmeita.sing(1).yell()\n",
        "```\n",
        "\n",
        "<b>Rezultāts uz ekrāna:</b><br>\n",
        "Ziemeļmeita - Jumprava<br>\n",
        "Gāju meklēt ziemeļmeitu<br>\n",
        "Ziemeļmeita - Jumprava<br>\n",
        "GĀJU MEKLĒT ZIEMEĻMEITU<br>\n",
        "GARU, TĀLU CEĻU VEICU"
      ]
    },
    {
      "cell_type": "code",
      "metadata": {
        "id": "e6qPsjyBST4y",
        "colab_type": "code",
        "colab": {
          "base_uri": "https://localhost:8080/",
          "height": 187
        },
        "outputId": "502a8210-243c-45e5-8535-d78593486210"
      },
      "source": [
        "class Song:\n",
        "    def __init__(self, title='', author='', lyrics=set()):\n",
        "        self.title = title\n",
        "        self.author = author\n",
        "        self.lyrics = lyrics\n",
        "\n",
        "    def reference(self):\n",
        "        if len(self.title) > 0 and len(self.author) > 0: \n",
        "            return self.title + '-' + self.author\n",
        "        elif len(self.title) == 0 and len(self.author) > 0:\n",
        "            return \"Nosaukums Nezināms - \" + self.author\n",
        "        elif len(self.title) > 0 and len(self.author) == 0:\n",
        "            return self.title + \" - Autors nezināms\"\n",
        "        else:\n",
        "            return \"Nosaukums Nezināms - Autors nezināms\"\n",
        "    \n",
        "    def sing(self, rep=1, max_lines=-1):\n",
        "        print(self.reference())\n",
        "\n",
        "        for i in range(rep):\n",
        "            n = 0\n",
        "            for line in self.lyrics:\n",
        "                print(str(line))\n",
        "                n += 1\n",
        "                if n == max_lines: break\n",
        "        \n",
        "        print('')\n",
        "        return self\n",
        "\n",
        "    def yell(self, rep=1, max_lines=-1):        \n",
        "        print(self.reference())\n",
        "    \n",
        "        for i in range(rep):\n",
        "            n = 0\n",
        "            for line in self.lyrics:\n",
        "                print(str(line).upper())\n",
        "                n += 1\n",
        "                if n == max_lines: break\n",
        "        \n",
        "        print('')\n",
        "        return self\n",
        "    \n",
        "        \n",
        "ziemelmeita = Song(\"Ziemeļmeita\", \"Jumprava\", [\"Gāju meklēt ziemeļmeitu\",\"Garu, tālu ceļu veicu\"])\n",
        "ziemelmeita.sing(2).yell(max_lines=1)"
      ],
      "execution_count": 102,
      "outputs": [
        {
          "output_type": "stream",
          "text": [
            "Ziemeļmeita-Jumprava\n",
            "Gāju meklēt ziemeļmeitu\n",
            "Garu, tālu ceļu veicu\n",
            "Gāju meklēt ziemeļmeitu\n",
            "Garu, tālu ceļu veicu\n",
            "\n",
            "Ziemeļmeita-Jumprava\n",
            "GĀJU MEKLĒT ZIEMEĻMEITU\n",
            "\n"
          ],
          "name": "stdout"
        },
        {
          "output_type": "execute_result",
          "data": {
            "text/plain": [
              "<__main__.Song at 0x7fa80adea668>"
            ]
          },
          "metadata": {
            "tags": []
          },
          "execution_count": 102
        }
      ]
    },
    {
      "cell_type": "code",
      "metadata": {
        "id": "SxAtwn4mgrSZ",
        "colab_type": "code",
        "colab": {
          "base_uri": "https://localhost:8080/",
          "height": 204
        },
        "outputId": "a5d5b77e-eac9-41da-edfc-846882c81849"
      },
      "source": [
        "vardi = ['Tavās acīs dziestot kvēl','Kurtizāņu ugunskurs','Un tev sevis mazliet žēl','Ka šīs liesmas vairs nevienu nenoburs']\n",
        "kurtizani = Song('Kurtizāņu ugunskurs', 'Dakota', vardi)\n",
        "kurtizani.sing().yell(max_lines=2)"
      ],
      "execution_count": 104,
      "outputs": [
        {
          "output_type": "stream",
          "text": [
            "Kurtizāņu ugunskurs-Dakota\n",
            "Tavās acīs dziestot kvēl\n",
            "Kurtizāņu ugunskurs\n",
            "Un tev sevis mazliet žēl\n",
            "Ka šīs liesmas vairs nevienu nenoburs\n",
            "\n",
            "Kurtizāņu ugunskurs-Dakota\n",
            "TAVĀS ACĪS DZIESTOT KVĒL\n",
            "KURTIZĀŅU UGUNSKURS\n",
            "\n"
          ],
          "name": "stdout"
        },
        {
          "output_type": "execute_result",
          "data": {
            "text/plain": [
              "<__main__.Song at 0x7fa812ab9b38>"
            ]
          },
          "metadata": {
            "tags": []
          },
          "execution_count": 104
        }
      ]
    },
    {
      "cell_type": "markdown",
      "metadata": {
        "id": "UyQj-xl-T3nd",
        "colab_type": "text"
      },
      "source": [
        "Tie kas jūtas komfortabli, uztaisiet Rap klasi kas manto no Song<br>\n",
        "Rap jābūt papildu <b>master_c</b> lauciņam ko padodam konstruktorā (string)<br>\n",
        "Papildu metode <b>break_it</b> ar diviem noklusētiem parametriem <b>max_lines</b> un <b>drop</b> vienādu ar \"yeah\", kura līdzīga sing, bet pievienot drop aiz katra vārda...<br>\n",
        "```\n",
        "zrap = Rap(\"Ziemeļmeita\", \"Jumprava\", [\"Gāju meklēt ziemeļmeitu\",\"Garu, tālu ceļu veicu\"])\n",
        "zrap.break_it(1, \"yah\")\n",
        "```\n",
        "\n",
        "Ziemeļmeita - Jumprava<br>\n",
        "Gāju YAH meklēt YAH ziemeļmeitu YAH"
      ]
    },
    {
      "cell_type": "code",
      "metadata": {
        "id": "Le_AHqP1T4Mm",
        "colab_type": "code",
        "colab": {
          "base_uri": "https://localhost:8080/",
          "height": 85
        },
        "outputId": "5d719167-e58c-49e7-e1dc-894eecd2e9a0"
      },
      "source": [
        "class Rap(Song):\n",
        "    def __init__(self, title='', author='', lyrics=set()):\n",
        "        self.title = title\n",
        "        self.author = author\n",
        "        self.lyrics = lyrics\n",
        "    \n",
        "    def break_it(self, max_lines=1, drop='yeah'):\n",
        "        n = 0\n",
        "        if max_lines == -1:\n",
        "            max_lines = len(self.lyrics)\n",
        "\n",
        "        print(self.reference())\n",
        "        while n != min(max_lines, len(self.lyrics)):\n",
        "            print((' ' + drop.upper() + ' ').join(self.lyrics[n].split(' ')))\n",
        "            n += 1\n",
        "        return self\n",
        "\n",
        "zrap = Rap(\"Ziemeļmeita\", \"Jumprava\", [\"Gāju meklēt ziemeļmeitu\",\"Garu, tālu ceļu veicu\"])\n",
        "zrap.break_it(2, \"yah\")"
      ],
      "execution_count": 100,
      "outputs": [
        {
          "output_type": "stream",
          "text": [
            "Ziemeļmeita-Jumprava\n",
            "Gāju YAH meklēt YAH ziemeļmeitu\n",
            "Garu, YAH tālu YAH ceļu YAH veicu\n"
          ],
          "name": "stdout"
        },
        {
          "output_type": "execute_result",
          "data": {
            "text/plain": [
              "<__main__.Rap at 0x7fa812ab9b00>"
            ]
          },
          "metadata": {
            "tags": []
          },
          "execution_count": 100
        }
      ]
    },
    {
      "cell_type": "code",
      "metadata": {
        "id": "ZZwaRCxciGw5",
        "colab_type": "code",
        "colab": {
          "base_uri": "https://localhost:8080/",
          "height": 221
        },
        "outputId": "5508cce9-7e87-492a-9b7d-7e5b6e644864"
      },
      "source": [
        "vardi = ['Kad barojām pīles, asaras krita tev lielas kā ozola zīles',\n",
        "         'Laiki met lokus, dažreiz saule slēpjas kastaņu kokos',\n",
        "         'Kā jūrnieki rumu tu gribi Munameģi, es braukšu uz Karakumu',\n",
        "         'Ar sarkanām neļķēm, laiks atvadīties, ir rudens, ļaudis klīst pa vientuļām peļķēm']\n",
        "Rudens = Rap(\"Rudens\", \"Prāta Vētra/Brainstorm\", vardi)\n",
        "Rudens.break_it(-1, \"jā\")\n",
        "\n",
        "print('')\n",
        "Rudens.sing()"
      ],
      "execution_count": 98,
      "outputs": [
        {
          "output_type": "stream",
          "text": [
            "Kad JĀ barojām JĀ pīles, JĀ asaras JĀ krita JĀ tev JĀ lielas JĀ kā JĀ ozola JĀ zīles\n",
            "Laiki JĀ met JĀ lokus, JĀ dažreiz JĀ saule JĀ slēpjas JĀ kastaņu JĀ kokos\n",
            "Kā JĀ jūrnieki JĀ rumu JĀ tu JĀ gribi JĀ Munameģi, JĀ es JĀ braukšu JĀ uz JĀ Karakumu\n",
            "Ar JĀ sarkanām JĀ neļķēm, JĀ laiks JĀ atvadīties, JĀ ir JĀ rudens, JĀ ļaudis JĀ klīst JĀ pa JĀ vientuļām JĀ peļķēm\n",
            "\n",
            "Rudens-Prāta Vētra/Brainstorm\n",
            "Kad barojām pīles, asaras krita tev lielas kā ozola zīles\n",
            "Laiki met lokus, dažreiz saule slēpjas kastaņu kokos\n",
            "Kā jūrnieki rumu tu gribi Munameģi, es braukšu uz Karakumu\n",
            "Ar sarkanām neļķēm, laiks atvadīties, ir rudens, ļaudis klīst pa vientuļām peļķēm\n",
            "\n"
          ],
          "name": "stdout"
        },
        {
          "output_type": "execute_result",
          "data": {
            "text/plain": [
              "<__main__.Rap at 0x7fa80adcb048>"
            ]
          },
          "metadata": {
            "tags": []
          },
          "execution_count": 98
        }
      ]
    }
  ]
}