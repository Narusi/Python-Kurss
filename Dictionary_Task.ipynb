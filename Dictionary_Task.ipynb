{
  "nbformat": 4,
  "nbformat_minor": 0,
  "metadata": {
    "colab": {
      "name": "Dictionary Task.ipynb",
      "provenance": [],
      "collapsed_sections": [],
      "authorship_tag": "ABX9TyMG0tE+oVNoFJA/Xqt8Lzod",
      "include_colab_link": true
    },
    "kernelspec": {
      "name": "python3",
      "display_name": "Python 3"
    }
  },
  "cells": [
    {
      "cell_type": "markdown",
      "metadata": {
        "id": "view-in-github",
        "colab_type": "text"
      },
      "source": [
        "<a href=\"https://colab.research.google.com/github/Narusi/Python-Kurss/blob/master/Dictionary_Task.ipynb\" target=\"_parent\"><img src=\"https://colab.research.google.com/assets/colab-badge.svg\" alt=\"Open In Colab\"/></a>"
      ]
    },
    {
      "cell_type": "markdown",
      "metadata": {
        "id": "lhv7ZsVsZ4JK",
        "colab_type": "text"
      },
      "source": [
        "<b>1. Vārdnīcu tīrītājs</b><br>\n",
        "<li><b>1.a</b>  Uzrakstīt <i>clean_dict_value(d, bad_val)</i>, kas atgriež attīrītu vārdnīcu. Funkcijas parametri ir vārdnīca <i>d</i>, kas jāapstrādā, un vērtība  bad_val no kuras jāatbrīvojas kopā ar ar tās atslēgu.<br>\n",
        "<i>clean_dict_value({'a':5,'b':6,'c':5}, 5) -> {'b':6} </i>, jo 5 bija vērtība gan a gan c atslēgām no kurām jāatbrīvojas.<br></li>\n",
        "<li><b>1.b</b> Uzrakstīt <i>clean_dict_values(d, v_list)</i>, kas atgriež attīrītu vārdnīcu. Funkcijas parametri ir vārdnīca <i>d</i>, kas jāapstrādā, un vērtību saraksts <i>v_list</i> no kurām jāatbrīvojas:<br>\n",
        "<i>clean_dict_values({'a':5,'b':6,'c':5}, [3,4,5]) -> {'b':6} </i>, jo 5 bija vieno no vērtībām no kurām jāatbrīvojas.<br></li>\n",
        "\n",
        "PS. Tīram mēs are <i>del d['a']</i> protams tikai tad ja atslēga 'a' eksistē."
      ]
    },
    {
      "cell_type": "code",
      "metadata": {
        "id": "exe_PobFZIXx",
        "colab_type": "code",
        "colab": {
          "base_uri": "https://localhost:8080/",
          "height": 85
        },
        "outputId": "fbeec2db-c1db-403e-f27c-1e0a6f6803fc"
      },
      "source": [
        "def clean_dict_value(d, bad_val):\n",
        "    while bad_val in d.values(): del d[list(d.keys())[list(d.values()).index(bad_val)]];\n",
        "    return d\n",
        "\n",
        "def clean_dict_values(d, v_list):\n",
        "    for b in v_list: \n",
        "        while b in d.values(): del d[list(d.keys())[list(d.values()).index(b)]]\n",
        "    return d\n",
        "\n",
        "def clean_dict_valuex(d, bad_val):\n",
        "    if type(bad_val) == list:\n",
        "        d = clean_dict_values(d, bad_val)\n",
        "    else:\n",
        "        d = clean_dict_value(d, bad_val)\n",
        "    return d\n",
        "\n",
        "print(clean_dict_value({'a':5,'b':6,'c':5}, 5))\n",
        "print(clean_dict_values({'a':5,'b':6,'c':5}, [3,4,5]))\n",
        "\n",
        "print(clean_dict_valuex({'a':5,'b':6,'c':5,'d':4,'e':45}, 5))\n",
        "print(clean_dict_valuex({'a':5,'b':6,'c':5,'d':4,'e':45}, [3,4,5]))"
      ],
      "execution_count": 24,
      "outputs": [
        {
          "output_type": "stream",
          "text": [
            "{'b': 6}\n",
            "{'b': 6}\n",
            "{'b': 6, 'd': 4, 'e': 45}\n",
            "{'b': 6, 'e': 45}\n"
          ],
          "name": "stdout"
        }
      ]
    },
    {
      "cell_type": "markdown",
      "metadata": {
        "id": "HN0n35GLaded",
        "colab_type": "text"
      },
      "source": [
        "<b>2. Vārdnīcu labotājs</b><br>\n",
        "Uzrakstīt <i>replace_dict_value(d, bad_val, good_val)</i>, kas atgriež vārdnīcu ar nomainītām vērtībām. Funkcijas parametri ir vārdnīca <i>d</i>, kas jāapstrādā, un vērtības <i>bad_val</i> kura jānomaina uz <i>good_val</i><br>\n",
        "<i>clean_dict_value({'a':5,'b':6,'c':5}, 5, 10) -> {'a':10,'b':6,'c':10} </i>, jo 5 bija vērtība, kas jānomaina.\n"
      ]
    },
    {
      "cell_type": "code",
      "metadata": {
        "id": "PWeA1rHuaeLq",
        "colab_type": "code",
        "colab": {
          "base_uri": "https://localhost:8080/",
          "height": 34
        },
        "outputId": "7242d9ed-ea3e-4f60-b20e-0740e93425fa"
      },
      "source": [
        "def replace_dict_value(d, bad_val, good_val):\n",
        "    while bad_val in d.values(): d[list(d.keys())[list(d.values()).index(bad_val)]] = good_val;\n",
        "    return d\n",
        "\n",
        "replace_dict_value({'a':5,'b':6,'c':5}, 5, 10)"
      ],
      "execution_count": 27,
      "outputs": [
        {
          "output_type": "execute_result",
          "data": {
            "text/plain": [
              "{'a': 10, 'b': 6, 'c': 10}"
            ]
          },
          "metadata": {
            "tags": []
          },
          "execution_count": 27
        }
      ]
    },
    {
      "cell_type": "markdown",
      "metadata": {
        "id": "6ht8YqkQaexR",
        "colab_type": "text"
      },
      "source": [
        "<b>3. Simbolu biežums</b><br>\n",
        "<li><b>3.a</b> Uzrakstīt funkciju: <i>get_digit_dict(num)</i>, kas saņem veselu skaitli kā parametru(var būt ļoti liels funkcija) izvada ciparu izmantojumu skaitlī vārdnīcas formā:<br>\n",
        "Ievada 599637003 -> {'0':2, '1':0,....'7'':1,'8':0,'9':2} # rādam visiem cipariem izmantojamību. Ieverojam ka cipariskās atslēgas ir stringi.<br></li>\n",
        "<li><b>3.b</b> Uzrakstīt funkciju: <i>get_char_count(text)</i>, kas saņem string un izvada vārdnīcu ar atsevišķu burtu lietojumu skaitu.<br>\n",
        "<i>get_char_count(\"hubba bubba\") -> {'h': 1, 'u': 2, 'b': 5, 'a': 2, ' ': 1}</i> # vārdnīcas secībai nav nozīme, un visam alfabetam nav jābut<br></li>\n",
        "\n",
        "<i>PS Var būt arī risinājums ar Counter but tas galīgi nav obligāti, lai gan ir ļoti eleganti :)</i>"
      ]
    },
    {
      "cell_type": "code",
      "metadata": {
        "id": "VWOpFf3CbW2B",
        "colab_type": "code",
        "colab": {
          "base_uri": "https://localhost:8080/",
          "height": 85
        },
        "outputId": "4a2b2161-364c-4938-a7e7-42d574f11373"
      },
      "source": [
        " def get_char_count(numOrText):\n",
        "    text = str(numOrText).replace(\" \",\"\")\n",
        "    countDict = {}\n",
        "    if len(text) > 0:        \n",
        "        for i in text:\n",
        "            if i in countDict.keys():\n",
        "                countDict[i] += 1\n",
        "            else:\n",
        "                countDict[i] = 1\n",
        "    return countDict\n",
        "\n",
        "print(get_char_count(599637003))\n",
        "print(get_char_count(\"hubba bubba\"))\n",
        "print(get_char_count(\" \"))\n",
        "print(get_char_count(\"1_000_000\"))"
      ],
      "execution_count": 41,
      "outputs": [
        {
          "output_type": "stream",
          "text": [
            "{'5': 1, '9': 2, '6': 1, '3': 2, '7': 1, '0': 2}\n",
            "{'h': 1, 'u': 2, 'b': 5, 'a': 2}\n",
            "{}\n",
            "{'1': 1, '_': 2, '0': 6}\n"
          ],
          "name": "stdout"
        }
      ]
    }
  ]
}