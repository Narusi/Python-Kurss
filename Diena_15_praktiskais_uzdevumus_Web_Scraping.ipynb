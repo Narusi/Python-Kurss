{
  "nbformat": 4,
  "nbformat_minor": 0,
  "metadata": {
    "colab": {
      "name": "Diena 15 - praktiskais uzdevumus Web Scraping",
      "provenance": [],
      "authorship_tag": "ABX9TyNkBezCV3d7qnEEenrTVVCk",
      "include_colab_link": true
    },
    "kernelspec": {
      "name": "python3",
      "display_name": "Python 3"
    }
  },
  "cells": [
    {
      "cell_type": "markdown",
      "metadata": {
        "id": "view-in-github",
        "colab_type": "text"
      },
      "source": [
        "<a href=\"https://colab.research.google.com/github/Narusi/Python-Kurss/blob/master/Diena_15_praktiskais_uzdevumus_Web_Scraping.ipynb\" target=\"_parent\"><img src=\"https://colab.research.google.com/assets/colab-badge.svg\" alt=\"Open In Colab\"/></a>"
      ]
    },
    {
      "cell_type": "code",
      "metadata": {
        "id": "BAUcoCAhWybF"
      },
      "source": [
        "import requests\n",
        "import pandas as pd\n",
        "from bs4 import BeautifulSoup\n",
        "import time\n",
        "import matplotlib.pyplot as plt"
      ],
      "execution_count": 80,
      "outputs": []
    },
    {
      "cell_type": "markdown",
      "metadata": {
        "id": "3iO0vDfihnXz"
      },
      "source": [
        "Izmantojot lekcijā apskatītos koda paraugus, atrodiet\n",
        "\n",
        "# 1. dzīvokļu īres cenu informāciju no kāda jums interesējoša rajona.<br>\n",
        "\n",
        "\n"
      ]
    },
    {
      "cell_type": "code",
      "metadata": {
        "id": "QFI0c9fFh0Gn",
        "outputId": "801017f6-2caa-4be5-b6fe-ec9d719e7d6d",
        "colab": {
          "base_uri": "https://localhost:8080/",
          "height": 204
        }
      },
      "source": [
        "ssLink = 'https://www.ss.com/lv/real-estate/flats/riga/teika/hand_over/'\n",
        "data = pd.read_html(ssLink, header=0)[4].iloc[:,2:]\n",
        "data.head(5)"
      ],
      "execution_count": 37,
      "outputs": [
        {
          "output_type": "execute_result",
          "data": {
            "text/html": [
              "<div>\n",
              "<style scoped>\n",
              "    .dataframe tbody tr th:only-of-type {\n",
              "        vertical-align: middle;\n",
              "    }\n",
              "\n",
              "    .dataframe tbody tr th {\n",
              "        vertical-align: top;\n",
              "    }\n",
              "\n",
              "    .dataframe thead th {\n",
              "        text-align: right;\n",
              "    }\n",
              "</style>\n",
              "<table border=\"1\" class=\"dataframe\">\n",
              "  <thead>\n",
              "    <tr style=\"text-align: right;\">\n",
              "      <th></th>\n",
              "      <th>Sludinājumi \\tdatums.2</th>\n",
              "      <th>Iela</th>\n",
              "      <th>Ist.</th>\n",
              "      <th>m2</th>\n",
              "      <th>Stāvs</th>\n",
              "      <th>Sērija</th>\n",
              "      <th>Cena, m2</th>\n",
              "      <th>Cena</th>\n",
              "    </tr>\n",
              "  </thead>\n",
              "  <tbody>\n",
              "    <tr>\n",
              "      <th>0</th>\n",
              "      <td>Piedāvājam ilgtermiņa īrei kompaktu divistabu ...</td>\n",
              "      <td>Vairoga 32</td>\n",
              "      <td>2</td>\n",
              "      <td>23</td>\n",
              "      <td>3/3</td>\n",
              "      <td>Renov.</td>\n",
              "      <td>11.74 €</td>\n",
              "      <td>270 €/mēn.</td>\n",
              "    </tr>\n",
              "    <tr>\n",
              "      <th>1</th>\n",
              "      <td>Izīrējam jauku 1-istabas Studio tipa dzīvokli ...</td>\n",
              "      <td>Aizpriežu 26</td>\n",
              "      <td>1</td>\n",
              "      <td>28</td>\n",
              "      <td>1/2</td>\n",
              "      <td>Jaun.</td>\n",
              "      <td>12.50 €</td>\n",
              "      <td>350 €/mēn.</td>\n",
              "    </tr>\n",
              "    <tr>\n",
              "      <th>2</th>\n",
              "      <td>Īpašnieks izīrē plašu 1-istabas dzīvokli ar vi...</td>\n",
              "      <td>Brīvības 296</td>\n",
              "      <td>1</td>\n",
              "      <td>36</td>\n",
              "      <td>1/3</td>\n",
              "      <td>P. kara</td>\n",
              "      <td>6.39 €</td>\n",
              "      <td>230 €/mēn.</td>\n",
              "    </tr>\n",
              "    <tr>\n",
              "      <th>3</th>\n",
              "      <td>Dzīvoklis labā stāvoklī, silts, bez mēbelēm, s...</td>\n",
              "      <td>Ropažu 87</td>\n",
              "      <td>1</td>\n",
              "      <td>38</td>\n",
              "      <td>1/5</td>\n",
              "      <td>M. ģim.</td>\n",
              "      <td>5 €</td>\n",
              "      <td>190 €/mēn.</td>\n",
              "    </tr>\n",
              "    <tr>\n",
              "      <th>4</th>\n",
              "      <td>Tiek izīrēts pilnībā mēbelēts 2 istabu dzīvokl...</td>\n",
              "      <td>Kastrānes 1</td>\n",
              "      <td>2</td>\n",
              "      <td>36</td>\n",
              "      <td>5/5</td>\n",
              "      <td>Renov.</td>\n",
              "      <td>9.44 €</td>\n",
              "      <td>340 €/mēn.</td>\n",
              "    </tr>\n",
              "  </tbody>\n",
              "</table>\n",
              "</div>"
            ],
            "text/plain": [
              "                              Sludinājumi \\tdatums.2  ...        Cena\n",
              "0  Piedāvājam ilgtermiņa īrei kompaktu divistabu ...  ...  270 €/mēn.\n",
              "1  Izīrējam jauku 1-istabas Studio tipa dzīvokli ...  ...  350 €/mēn.\n",
              "2  Īpašnieks izīrē plašu 1-istabas dzīvokli ar vi...  ...  230 €/mēn.\n",
              "3  Dzīvoklis labā stāvoklī, silts, bez mēbelēm, s...  ...  190 €/mēn.\n",
              "4  Tiek izīrēts pilnībā mēbelēts 2 istabu dzīvokl...  ...  340 €/mēn.\n",
              "\n",
              "[5 rows x 8 columns]"
            ]
          },
          "metadata": {
            "tags": []
          },
          "execution_count": 37
        }
      ]
    },
    {
      "cell_type": "markdown",
      "metadata": {
        "id": "nqt-31TyiC3s"
      },
      "source": [
        "## 1b.Atrodiet, kura stāva dzīvoklis ir visaugstākais patlabān tirgū."
      ]
    },
    {
      "cell_type": "code",
      "metadata": {
        "id": "_sBwQmVriE3L",
        "outputId": "c6a93448-6af3-4de2-b16c-ecc4988fe707",
        "colab": {
          "base_uri": "https://localhost:8080/",
          "height": 173
        }
      },
      "source": [
        "data['Jumta_stavs'] = 0\n",
        "data['Stavs'] = 0\n",
        "data['Cena_Tira'] = 0.0\n",
        "data['Freq'] = ''\n",
        "\n",
        "for i in data.index:\n",
        "    data.loc[i, 'Jumta_stavs'] = data.loc[i, 'Stāvs'].split('/')[-1]\n",
        "    data.loc[i, 'Stavs'] = data.loc[i, 'Stāvs'].split('/')[0]\n",
        "    data.loc[i, 'Cena_Tira'] = float(data.loc[i, 'Cena'].split('/')[0].strip().encode(\"ascii\", \"ignore\"))\n",
        "    data.loc[i, 'Freq'] = data.loc[i, 'Cena'].split('/')[-1].strip()\n",
        "\n",
        "data['Cena_m2'] = data['Cena_Tira'].div(data['m2']).round(2)\n",
        "\n",
        "data['Stavs'] = pd.to_numeric(data['Stavs'])\n",
        "data['Jumta_stavs'] = pd.to_numeric(data['Jumta_stavs'])\n",
        "\n",
        "data[data['Stavs']==data['Stavs'].max()]"
      ],
      "execution_count": 43,
      "outputs": [
        {
          "output_type": "execute_result",
          "data": {
            "text/html": [
              "<div>\n",
              "<style scoped>\n",
              "    .dataframe tbody tr th:only-of-type {\n",
              "        vertical-align: middle;\n",
              "    }\n",
              "\n",
              "    .dataframe tbody tr th {\n",
              "        vertical-align: top;\n",
              "    }\n",
              "\n",
              "    .dataframe thead th {\n",
              "        text-align: right;\n",
              "    }\n",
              "</style>\n",
              "<table border=\"1\" class=\"dataframe\">\n",
              "  <thead>\n",
              "    <tr style=\"text-align: right;\">\n",
              "      <th></th>\n",
              "      <th>Sludinājumi \\tdatums.2</th>\n",
              "      <th>Iela</th>\n",
              "      <th>Ist.</th>\n",
              "      <th>m2</th>\n",
              "      <th>Stāvs</th>\n",
              "      <th>Sērija</th>\n",
              "      <th>Cena, m2</th>\n",
              "      <th>Cena</th>\n",
              "      <th>Jumta_stavs</th>\n",
              "      <th>Stavs</th>\n",
              "      <th>Cena_Tira</th>\n",
              "      <th>Freq</th>\n",
              "      <th>Cena_m2</th>\n",
              "    </tr>\n",
              "  </thead>\n",
              "  <tbody>\n",
              "    <tr>\n",
              "      <th>4</th>\n",
              "      <td>Tiek izīrēts pilnībā mēbelēts 2 istabu dzīvokl...</td>\n",
              "      <td>Kastrānes 1</td>\n",
              "      <td>2</td>\n",
              "      <td>36</td>\n",
              "      <td>5/5</td>\n",
              "      <td>Renov.</td>\n",
              "      <td>9.44 €</td>\n",
              "      <td>340 €/mēn.</td>\n",
              "      <td>5</td>\n",
              "      <td>5</td>\n",
              "      <td>340.0</td>\n",
              "      <td>mēn.</td>\n",
              "      <td>9.44</td>\n",
              "    </tr>\n",
              "    <tr>\n",
              "      <th>13</th>\n",
              "      <td>Tiek izīrēts saulains, mājīgs 3istabu dzīvokli...</td>\n",
              "      <td>Biķernieku 29</td>\n",
              "      <td>3</td>\n",
              "      <td>57</td>\n",
              "      <td>5/5</td>\n",
              "      <td>Hrušč.</td>\n",
              "      <td>8 €</td>\n",
              "      <td>456 €/mēn.</td>\n",
              "      <td>5</td>\n",
              "      <td>5</td>\n",
              "      <td>456.0</td>\n",
              "      <td>mēn.</td>\n",
              "      <td>8.00</td>\n",
              "    </tr>\n",
              "    <tr>\n",
              "      <th>14</th>\n",
              "      <td>Izīrē bez starpniekiem vienkāršu vienistabas d...</td>\n",
              "      <td>Biķernieku 63</td>\n",
              "      <td>1</td>\n",
              "      <td>33</td>\n",
              "      <td>5/5</td>\n",
              "      <td>Hrušč.</td>\n",
              "      <td>6.06 €</td>\n",
              "      <td>200 €/mēn.</td>\n",
              "      <td>5</td>\n",
              "      <td>5</td>\n",
              "      <td>200.0</td>\n",
              "      <td>mēn.</td>\n",
              "      <td>6.06</td>\n",
              "    </tr>\n",
              "    <tr>\n",
              "      <th>23</th>\n",
              "      <td>Īpašnieks izīrē gaumīgu, mūsdienīgu, mājīgu un...</td>\n",
              "      <td>Ropažu 22</td>\n",
              "      <td>1</td>\n",
              "      <td>32</td>\n",
              "      <td>5/5</td>\n",
              "      <td>Hrušč.</td>\n",
              "      <td>9.38 €</td>\n",
              "      <td>300 €/mēn.</td>\n",
              "      <td>5</td>\n",
              "      <td>5</td>\n",
              "      <td>300.0</td>\n",
              "      <td>mēn.</td>\n",
              "      <td>9.38</td>\n",
              "    </tr>\n",
              "  </tbody>\n",
              "</table>\n",
              "</div>"
            ],
            "text/plain": [
              "                               Sludinājumi \\tdatums.2  ... Cena_m2\n",
              "4   Tiek izīrēts pilnībā mēbelēts 2 istabu dzīvokl...  ...    9.44\n",
              "13  Tiek izīrēts saulains, mājīgs 3istabu dzīvokli...  ...    8.00\n",
              "14  Izīrē bez starpniekiem vienkāršu vienistabas d...  ...    6.06\n",
              "23  Īpašnieks izīrē gaumīgu, mūsdienīgu, mājīgu un...  ...    9.38\n",
              "\n",
              "[4 rows x 13 columns]"
            ]
          },
          "metadata": {
            "tags": []
          },
          "execution_count": 43
        }
      ]
    },
    {
      "cell_type": "markdown",
      "metadata": {
        "id": "hfebyvPeiE_C"
      },
      "source": [
        "## 1c Iegūtos rezultātus noglabājiet failā (CSV,XLSX,JSON)"
      ]
    },
    {
      "cell_type": "code",
      "metadata": {
        "id": "RUpeK8CziISz"
      },
      "source": [
        "data.to_csv('Data.csv')"
      ],
      "execution_count": 45,
      "outputs": []
    },
    {
      "cell_type": "markdown",
      "metadata": {
        "id": "sc1As0-3iIbE"
      },
      "source": [
        "## 1d. Uzzīmējiet cenu histogrammu attiecigajam rajonam."
      ]
    },
    {
      "cell_type": "code",
      "metadata": {
        "id": "uo3P52wLiJdE",
        "outputId": "337e8944-0a96-47a2-e6e2-8d3940445dc6",
        "colab": {
          "base_uri": "https://localhost:8080/",
          "height": 282
        }
      },
      "source": [
        "data['Cena_Tira'].hist()"
      ],
      "execution_count": 46,
      "outputs": [
        {
          "output_type": "execute_result",
          "data": {
            "text/plain": [
              "<matplotlib.axes._subplots.AxesSubplot at 0x7faa26cc06a0>"
            ]
          },
          "metadata": {
            "tags": []
          },
          "execution_count": 46
        },
        {
          "output_type": "display_data",
          "data": {
            "image/png": "[encoded data removed]",
            "text/plain": [
              "<Figure size 432x288 with 1 Axes>"
            ]
          },
          "metadata": {
            "tags": [],
            "needs_background": "light"
          }
        }
      ]
    },
    {
      "cell_type": "markdown",
      "metadata": {
        "id": "fFHpfyFKh0PI"
      },
      "source": [
        "#2. Atrodiet kāda automašīnu markas un modeļa pārdošanas cenas\n",
        "\n",
        "Iegūtos rezultātus noglabājiet failā (CSV,XLSX,JSON)<br>\n",
        "Ielādējiet rezultātus.<br>\n",
        "Uzzīmējiet cenu histogrammu attiecigajam modelim.<br>\n",
        "Lai veiktu šo darbību visticamāk nāksies attīrīt kolonnu ar cenām.<br><br>\n",
        "<b>Tiem, kam ir pieredze ar Pandas:</b> \n",
        "Sagrupējiet modeļus pa gadiem un aspkatiet vidējās pārdošanas cenas."
      ]
    },
    {
      "cell_type": "code",
      "metadata": {
        "id": "kZKx1WAkh-5_",
        "outputId": "68969fde-695d-4253-ceda-edc6f0445fb7",
        "colab": {
          "base_uri": "https://localhost:8080/",
          "height": 221
        }
      },
      "source": [
        "autoLink = 'https://www.ss.com/lv/transport/cars/nissan/qashqai/sell/'\n",
        "\n",
        "data = pd.read_html(autoLink, header=0)[4].iloc[:,2:]\n",
        "for n in range(2,5):\n",
        "    autoLink = f'https://www.ss.com/lv/transport/cars/nissan/qashqai/sell/page{n}.html'\n",
        "    data = data.append(pd.read_html(autoLink, header=0)[4].iloc[:,2:])\n",
        "    time.sleep(0.5)\n",
        "\n",
        "data.index = list(range(len(data.index)))\n",
        "data.info()"
      ],
      "execution_count": 75,
      "outputs": [
        {
          "output_type": "stream",
          "text": [
            "<class 'pandas.core.frame.DataFrame'>\n",
            "Int64Index: 120 entries, 0 to 119\n",
            "Data columns (total 5 columns):\n",
            " #   Column                 Non-Null Count  Dtype \n",
            "---  ------                 --------------  ----- \n",
            " 0   Sludinājumi \tdatums.2  120 non-null    object\n",
            " 1   Gads                   120 non-null    int64 \n",
            " 2   Tilp.                  120 non-null    object\n",
            " 3   Nobrauk.               120 non-null    object\n",
            " 4   Cena                   120 non-null    object\n",
            "dtypes: int64(1), object(4)\n",
            "memory usage: 5.6+ KB\n"
          ],
          "name": "stdout"
        }
      ]
    },
    {
      "cell_type": "code",
      "metadata": {
        "id": "tm8Z4xzTn_cD",
        "outputId": "ba438554-dc4c-41c5-8127-83c2f2a10aa8",
        "colab": {
          "base_uri": "https://localhost:8080/",
          "height": 204
        }
      },
      "source": [
        "data.head()\n",
        "data['Dieasel'] = False\n",
        "data['km'] = 0\n",
        "data['Tira_cena'] = 0.0\n",
        "\n",
        "for i in data.index:\n",
        "    try:\n",
        "        data.loc[i, 'Tira_cena'] = float(data.loc[i, 'Cena'].strip().replace(',','').encode(\"ascii\", \"ignore\"))\n",
        "        if not '-' in data.loc[i, 'Nobrauk.']:\n",
        "            data.loc[i, 'km'] = float(data.loc[i, 'Nobrauk.'].split(' ')[0].strip())*100\n",
        "    finally:\n",
        "        if data.loc[i, 'Tilp.'].endswith('D'):\n",
        "            data.loc[i,'Dieasel'] = True\n",
        "            data.loc[i, 'Tilp.'] = data.loc[i, 'Tilp.'][:-1]\n",
        "        data.loc[i, 'Tilp.'] = data.loc[i, 'Tilp.'].strip()\n",
        "\n",
        "data['Tilp.'] = pd.to_numeric(data['Tilp.'])\n",
        "data.head()"
      ],
      "execution_count": 76,
      "outputs": [
        {
          "output_type": "execute_result",
          "data": {
            "text/html": [
              "<div>\n",
              "<style scoped>\n",
              "    .dataframe tbody tr th:only-of-type {\n",
              "        vertical-align: middle;\n",
              "    }\n",
              "\n",
              "    .dataframe tbody tr th {\n",
              "        vertical-align: top;\n",
              "    }\n",
              "\n",
              "    .dataframe thead th {\n",
              "        text-align: right;\n",
              "    }\n",
              "</style>\n",
              "<table border=\"1\" class=\"dataframe\">\n",
              "  <thead>\n",
              "    <tr style=\"text-align: right;\">\n",
              "      <th></th>\n",
              "      <th>Sludinājumi \\tdatums.2</th>\n",
              "      <th>Gads</th>\n",
              "      <th>Tilp.</th>\n",
              "      <th>Nobrauk.</th>\n",
              "      <th>Cena</th>\n",
              "      <th>Dieasel</th>\n",
              "      <th>km</th>\n",
              "      <th>Tira_cena</th>\n",
              "    </tr>\n",
              "  </thead>\n",
              "  <tbody>\n",
              "    <tr>\n",
              "      <th>0</th>\n",
              "      <td>Tekna Plus, benzīns, automāts, Bose, pilnākā k...</td>\n",
              "      <td>2012</td>\n",
              "      <td>1.6</td>\n",
              "      <td>108 tūkst.</td>\n",
              "      <td>9,450 €</td>\n",
              "      <td>False</td>\n",
              "      <td>10800.0</td>\n",
              "      <td>9450.0</td>\n",
              "    </tr>\n",
              "    <tr>\n",
              "      <th>1</th>\n",
              "      <td>Automašīna pirkta jauna un visas apkopes veikt...</td>\n",
              "      <td>2017</td>\n",
              "      <td>1.2</td>\n",
              "      <td>68 tūkst.</td>\n",
              "      <td>15,000 €</td>\n",
              "      <td>False</td>\n",
              "      <td>6800.0</td>\n",
              "      <td>15000.0</td>\n",
              "    </tr>\n",
              "    <tr>\n",
              "      <th>2</th>\n",
              "      <td>Pārdod / Maiņa / Līzings Nissan Qashqai 2.0D /...</td>\n",
              "      <td>2011</td>\n",
              "      <td>2.0</td>\n",
              "      <td>222 tūkst.</td>\n",
              "      <td>7,100 €</td>\n",
              "      <td>True</td>\n",
              "      <td>22200.0</td>\n",
              "      <td>7100.0</td>\n",
              "    </tr>\n",
              "    <tr>\n",
              "      <th>3</th>\n",
              "      <td>Pārdodu ģimenes auto 2.0 Dci ar defektu (nolec...</td>\n",
              "      <td>2008</td>\n",
              "      <td>2.0</td>\n",
              "      <td>244 tūkst.</td>\n",
              "      <td>2,800 €</td>\n",
              "      <td>True</td>\n",
              "      <td>24400.0</td>\n",
              "      <td>2800.0</td>\n",
              "    </tr>\n",
              "    <tr>\n",
              "      <th>4</th>\n",
              "      <td>Nissan Qashqai, Acenta komplektācija, 1.2 benz...</td>\n",
              "      <td>2018</td>\n",
              "      <td>1.2</td>\n",
              "      <td>29 tūkst.</td>\n",
              "      <td>17,200 €</td>\n",
              "      <td>False</td>\n",
              "      <td>2900.0</td>\n",
              "      <td>17200.0</td>\n",
              "    </tr>\n",
              "  </tbody>\n",
              "</table>\n",
              "</div>"
            ],
            "text/plain": [
              "                              Sludinājumi \\tdatums.2  Gads  ...       km Tira_cena\n",
              "0  Tekna Plus, benzīns, automāts, Bose, pilnākā k...  2012  ...  10800.0    9450.0\n",
              "1  Automašīna pirkta jauna un visas apkopes veikt...  2017  ...   6800.0   15000.0\n",
              "2  Pārdod / Maiņa / Līzings Nissan Qashqai 2.0D /...  2011  ...  22200.0    7100.0\n",
              "3  Pārdodu ģimenes auto 2.0 Dci ar defektu (nolec...  2008  ...  24400.0    2800.0\n",
              "4  Nissan Qashqai, Acenta komplektācija, 1.2 benz...  2018  ...   2900.0   17200.0\n",
              "\n",
              "[5 rows x 8 columns]"
            ]
          },
          "metadata": {
            "tags": []
          },
          "execution_count": 76
        }
      ]
    },
    {
      "cell_type": "code",
      "metadata": {
        "id": "1uvFe-44qqdV",
        "outputId": "896c27ec-8e80-4343-b222-8cdfb9d36f32",
        "colab": {
          "base_uri": "https://localhost:8080/",
          "height": 499
        }
      },
      "source": [
        "data[['Gads','Tilp.','km','Tira_cena']].hist(figsize=(16,8))\n",
        "plt.show()"
      ],
      "execution_count": 79,
      "outputs": [
        {
          "output_type": "display_data",
          "data": {
            "image/png": "[encoded data removed]",
            "text/plain": [
              "<Figure size 1152x576 with 4 Axes>"
            ]
          },
          "metadata": {
            "tags": [],
            "needs_background": "light"
          }
        }
      ]
    },
    {
      "cell_type": "code",
      "metadata": {
        "id": "eTQ8OVr6zXcb",
        "outputId": "34f3f007-1585-4344-96c5-5f6a0d995a6e",
        "colab": {
          "base_uri": "https://localhost:8080/",
          "height": 390
        }
      },
      "source": [
        "data.loc[data['Tira_cena']<=data['Tira_cena'].quantile(0.95),'Tira_cena'].hist(figsize=(12,6))\n",
        "plt.title('Nissan Qashqai cenas')\n",
        "plt.show();"
      ],
      "execution_count": 92,
      "outputs": [
        {
          "output_type": "display_data",
          "data": {
            "image/png": "[encoded data removed]",
            "text/plain": [
              "<Figure size 864x432 with 1 Axes>"
            ]
          },
          "metadata": {
            "tags": [],
            "needs_background": "light"
          }
        }
      ]
    }
  ]
}