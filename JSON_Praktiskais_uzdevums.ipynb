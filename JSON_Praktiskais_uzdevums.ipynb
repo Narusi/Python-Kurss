{
  "nbformat": 4,
  "nbformat_minor": 0,
  "metadata": {
    "colab": {
      "name": "JSON - Praktiskais uzdevums.ipynb",
      "provenance": [],
      "collapsed_sections": [],
      "authorship_tag": "ABX9TyNGyU91Oc10nSIt7DsWfk8c",
      "include_colab_link": true
    },
    "kernelspec": {
      "name": "python3",
      "display_name": "Python 3"
    }
  },
  "cells": [
    {
      "cell_type": "markdown",
      "metadata": {
        "id": "view-in-github",
        "colab_type": "text"
      },
      "source": [
        "<a href=\"https://colab.research.google.com/github/Narusi/Python-Kurss/blob/master/JSON_Praktiskais_uzdevums.ipynb\" target=\"_parent\"><img src=\"https://colab.research.google.com/assets/colab-badge.svg\" alt=\"Open In Colab\"/></a>"
      ]
    },
    {
      "cell_type": "code",
      "metadata": {
        "id": "dMljqoAJ093X"
      },
      "source": [
        "import requests\n",
        "import pandas as pd\n",
        "from collections import Counter\n",
        "import plotly.express as px"
      ],
      "execution_count": 136,
      "outputs": []
    },
    {
      "cell_type": "markdown",
      "metadata": {
        "id": "vPDd_xIPypB8"
      },
      "source": [
        "### <b>1a. Izvelciet 10 receptes kas satur kartupeļus no sekojoša API:</b>\n",
        "\n",
        "http://www.recipepuppy.com/about/api/\n",
        "\n",
        "Dati jasaglabā .json failā bet arī jaizveido python datu struktūra<br>\n",
        "PS. ASV izrunā kartupeli kā potato :)"
      ]
    },
    {
      "cell_type": "code",
      "metadata": {
        "id": "_Y1RvKBqynI1",
        "outputId": "e52a62d4-5d10-4c66-8cb5-d963cdbcb8be",
        "colab": {
          "base_uri": "https://localhost:8080/",
          "height": 34
        }
      },
      "source": [
        "recipies = requests.get('http://www.recipepuppy.com/api/?i=potato&p=10')\n",
        "recipies"
      ],
      "execution_count": 118,
      "outputs": [
        {
          "output_type": "execute_result",
          "data": {
            "text/plain": [
              "<Response [200]>"
            ]
          },
          "metadata": {
            "tags": []
          },
          "execution_count": 118
        }
      ]
    },
    {
      "cell_type": "code",
      "metadata": {
        "id": "ylMIOO141NQS",
        "outputId": "cf598f60-e97c-4faf-8136-3ee21d02580a",
        "colab": {
          "base_uri": "https://localhost:8080/",
          "height": 359
        }
      },
      "source": [
        "recipDF = pd.DataFrame(eval(recipies.text)['results'])\n",
        "recipDF = recipDF.replace('/', '') # This does not work for soem reason\n",
        "\n",
        "recipDF['title'] = recipDF['title'].apply(str.strip)\n",
        "\n",
        "for i in recipDF.index:    \n",
        "    if '/' in recipDF.loc[i, 'href']:\n",
        "        recipDF.loc[i, 'href'] = recipDF.loc[i, 'href'].replace('/','')\n",
        "        recipDF.loc[i, 'thumbnail'] = recipDF.loc[i, 'thumbnail'].replace('/','')\n",
        "\n",
        "recipDF.to_json('potato_recipies.json')\n",
        "\n",
        "recipDF[['title','ingredients','thumbnail','href']]"
      ],
      "execution_count": 119,
      "outputs": [
        {
          "output_type": "execute_result",
          "data": {
            "text/html": [
              "<div>\n",
              "<style scoped>\n",
              "    .dataframe tbody tr th:only-of-type {\n",
              "        vertical-align: middle;\n",
              "    }\n",
              "\n",
              "    .dataframe tbody tr th {\n",
              "        vertical-align: top;\n",
              "    }\n",
              "\n",
              "    .dataframe thead th {\n",
              "        text-align: right;\n",
              "    }\n",
              "</style>\n",
              "<table border=\"1\" class=\"dataframe\">\n",
              "  <thead>\n",
              "    <tr style=\"text-align: right;\">\n",
              "      <th></th>\n",
              "      <th>title</th>\n",
              "      <th>ingredients</th>\n",
              "      <th>thumbnail</th>\n",
              "      <th>href</th>\n",
              "    </tr>\n",
              "  </thead>\n",
              "  <tbody>\n",
              "    <tr>\n",
              "      <th>0</th>\n",
              "      <td>Sweet &amp; Smoky Potato Wedges</td>\n",
              "      <td>potato, barbecue sauce, paprika</td>\n",
              "      <td>http:\\\\img.recipepuppy.com\\639962.jpg</td>\n",
              "      <td>http:\\\\www.kraftfoods.com\\kf\\recipes\\sweet-smo...</td>\n",
              "    </tr>\n",
              "    <tr>\n",
              "      <th>1</th>\n",
              "      <td>Fanned Baked Potatoes</td>\n",
              "      <td>potato, italian dressing, parmesan cheese</td>\n",
              "      <td>http:\\\\img.recipepuppy.com\\638569.jpg</td>\n",
              "      <td>http:\\\\www.kraftfoods.com\\kf\\recipes\\fanned-ba...</td>\n",
              "    </tr>\n",
              "    <tr>\n",
              "      <th>2</th>\n",
              "      <td>Belgium Frites(French Fries)</td>\n",
              "      <td>vegetable oil, potato, salt</td>\n",
              "      <td>http:\\\\img.recipepuppy.com\\36535.jpg</td>\n",
              "      <td>http:\\\\www.recipezaar.com\\Belgium-FritesFrench...</td>\n",
              "    </tr>\n",
              "    <tr>\n",
              "      <th>3</th>\n",
              "      <td>Baked Buttery Potato Slices</td>\n",
              "      <td>margarine, potato, salt</td>\n",
              "      <td>http:\\\\img.recipepuppy.com\\118396.jpg</td>\n",
              "      <td>http:\\\\www.recipezaar.com\\Baked-Buttery-Potato...</td>\n",
              "    </tr>\n",
              "    <tr>\n",
              "      <th>4</th>\n",
              "      <td>Byron Potatoes</td>\n",
              "      <td>potato, cheddar cheese, cream</td>\n",
              "      <td>http:\\\\img.recipepuppy.com\\208178.jpg</td>\n",
              "      <td>http:\\\\www.recipezaar.com\\Byron-Potatoes-179824</td>\n",
              "    </tr>\n",
              "    <tr>\n",
              "      <th>5</th>\n",
              "      <td>Chicken Breast With Roasted Potatoes</td>\n",
              "      <td>chicken, olive oil, potato</td>\n",
              "      <td>http:\\\\img.recipepuppy.com\\294572.jpg</td>\n",
              "      <td>http:\\\\www.recipezaar.com\\Chicken-Breast-With-...</td>\n",
              "    </tr>\n",
              "    <tr>\n",
              "      <th>6</th>\n",
              "      <td>Vaporous Mashed Potatoes</td>\n",
              "      <td>chives, cream cheese, potato</td>\n",
              "      <td>http:\\\\img.recipepuppy.com\\347409.jpg</td>\n",
              "      <td>http:\\\\www.recipezaar.com\\Vaporous-Mashed-Pota...</td>\n",
              "    </tr>\n",
              "    <tr>\n",
              "      <th>7</th>\n",
              "      <td>EZ Cheesy Potatoes</td>\n",
              "      <td>potato, processed cheese, water</td>\n",
              "      <td>http:\\\\img.recipepuppy.com\\348300.jpg</td>\n",
              "      <td>http:\\\\www.recipezaar.com\\EZ-Cheesy-Potatoes-4...</td>\n",
              "    </tr>\n",
              "    <tr>\n",
              "      <th>8</th>\n",
              "      <td>Do-Ahead Fries</td>\n",
              "      <td>vegetable oil, potato, salt</td>\n",
              "      <td>http:\\\\img.recipepuppy.com\\362866.jpg</td>\n",
              "      <td>http:\\\\www.recipezaar.com\\Do-Ahead-Fries-35571</td>\n",
              "    </tr>\n",
              "    <tr>\n",
              "      <th>9</th>\n",
              "      <td>Easiest Low Fat French Fries</td>\n",
              "      <td>nonstick cooking spray, potato, salt</td>\n",
              "      <td>http:\\\\img.recipepuppy.com\\509659.jpg</td>\n",
              "      <td>http:\\\\www.recipezaar.com\\Easiest-Low-Fat-Fren...</td>\n",
              "    </tr>\n",
              "  </tbody>\n",
              "</table>\n",
              "</div>"
            ],
            "text/plain": [
              "                                  title  ...                                               href\n",
              "0           Sweet & Smoky Potato Wedges  ...  http:\\\\www.kraftfoods.com\\kf\\recipes\\sweet-smo...\n",
              "1                 Fanned Baked Potatoes  ...  http:\\\\www.kraftfoods.com\\kf\\recipes\\fanned-ba...\n",
              "2          Belgium Frites(French Fries)  ...  http:\\\\www.recipezaar.com\\Belgium-FritesFrench...\n",
              "3           Baked Buttery Potato Slices  ...  http:\\\\www.recipezaar.com\\Baked-Buttery-Potato...\n",
              "4                        Byron Potatoes  ...    http:\\\\www.recipezaar.com\\Byron-Potatoes-179824\n",
              "5  Chicken Breast With Roasted Potatoes  ...  http:\\\\www.recipezaar.com\\Chicken-Breast-With-...\n",
              "6              Vaporous Mashed Potatoes  ...  http:\\\\www.recipezaar.com\\Vaporous-Mashed-Pota...\n",
              "7                    EZ Cheesy Potatoes  ...  http:\\\\www.recipezaar.com\\EZ-Cheesy-Potatoes-4...\n",
              "8                        Do-Ahead Fries  ...     http:\\\\www.recipezaar.com\\Do-Ahead-Fries-35571\n",
              "9          Easiest Low Fat French Fries  ...  http:\\\\www.recipezaar.com\\Easiest-Low-Fat-Fren...\n",
              "\n",
              "[10 rows x 4 columns]"
            ]
          },
          "metadata": {
            "tags": []
          },
          "execution_count": 119
        }
      ]
    },
    {
      "cell_type": "markdown",
      "metadata": {
        "id": "JtD6Zukcyug_"
      },
      "source": [
        "###<b>1b. Izvelciet 100 receptes, kas satur kartupeļus un sieru no tā paša API</b>\n",
        "\n",
        "Atceramies ka šis API datus dod tikai pa 10 vērtībām reizē, līdz ar to vajadzēs lipināt rezultātus kopā.<br>\n",
        "Lipināt būs vieglāk jau Python datu strukturu."
      ]
    },
    {
      "cell_type": "code",
      "metadata": {
        "id": "ngiX91rl7Df5"
      },
      "source": [
        "firstPath = 'http://www.recipepuppy.com/api/?i=potato,cheese&p=1'\n",
        "recipDF = pd.DataFrame(eval(requests.get(firstPath).text)['results'])\n",
        "\n",
        "i = 1\n",
        "ii = 0\n",
        "while i <= 9:\n",
        "    newPath = f'http://www.recipepuppy.com/api/?i=potato,cheese&p={2+ii}'\n",
        "    recipies = requests.get(newPath)\n",
        "\n",
        "    if str(recipies) == '<Response [200]>':\n",
        "        recipDF = recipDF.append(pd.DataFrame(eval(recipies.text)['results']))\n",
        "        i += 1    \n",
        "    ii += 1\n",
        "\n",
        "recipDF.index = list(range(len(recipDF.index)))\n",
        "recipDF['title'] = recipDF['title'].apply(str.strip)"
      ],
      "execution_count": 120,
      "outputs": []
    },
    {
      "cell_type": "code",
      "metadata": {
        "id": "iy5rBib99XhX",
        "outputId": "a1fb83ef-25eb-47a8-c354-d391d0e714b8",
        "colab": {
          "base_uri": "https://localhost:8080/",
          "height": 419
        }
      },
      "source": [
        "recipDF = recipDF.replace('/', '') # This does not work for soem reason\n",
        "for i in recipDF.index:\n",
        "    if '/' in recipDF.loc[i, 'href']:\n",
        "        recipDF.loc[i, 'href'] = recipDF.loc[i, 'href'].replace('/','')\n",
        "        recipDF.loc[i, 'thumbnail'] = recipDF.loc[i, 'thumbnail'].replace('/','')\n",
        "\n",
        "recipDF.to_json('potato_n_cheese_recipies.json')\n",
        "recipDF[['title','ingredients','thumbnail','href']]"
      ],
      "execution_count": 121,
      "outputs": [
        {
          "output_type": "execute_result",
          "data": {
            "text/html": [
              "<div>\n",
              "<style scoped>\n",
              "    .dataframe tbody tr th:only-of-type {\n",
              "        vertical-align: middle;\n",
              "    }\n",
              "\n",
              "    .dataframe tbody tr th {\n",
              "        vertical-align: top;\n",
              "    }\n",
              "\n",
              "    .dataframe thead th {\n",
              "        text-align: right;\n",
              "    }\n",
              "</style>\n",
              "<table border=\"1\" class=\"dataframe\">\n",
              "  <thead>\n",
              "    <tr style=\"text-align: right;\">\n",
              "      <th></th>\n",
              "      <th>title</th>\n",
              "      <th>ingredients</th>\n",
              "      <th>thumbnail</th>\n",
              "      <th>href</th>\n",
              "    </tr>\n",
              "  </thead>\n",
              "  <tbody>\n",
              "    <tr>\n",
              "      <th>0</th>\n",
              "      <td>Cheesy Fries</td>\n",
              "      <td>cheese, potato</td>\n",
              "      <td>http:\\\\img.recipepuppy.com\\638886.jpg</td>\n",
              "      <td>http:\\\\www.kraftfoods.com\\kf\\recipes\\cheesy-fr...</td>\n",
              "    </tr>\n",
              "    <tr>\n",
              "      <th>1</th>\n",
              "      <td>Cheesy Pizza Baked Potato</td>\n",
              "      <td>cheese, potato, pizza sauce</td>\n",
              "      <td>http:\\\\img.recipepuppy.com\\638907.jpg</td>\n",
              "      <td>http:\\\\www.kraftfoods.com\\kf\\recipes\\cheesy-pi...</td>\n",
              "    </tr>\n",
              "    <tr>\n",
              "      <th>2</th>\n",
              "      <td>Garlic-Herb Mashed Potatoes</td>\n",
              "      <td>cheese, milk, potato</td>\n",
              "      <td>http:\\\\img.recipepuppy.com\\648435.jpg</td>\n",
              "      <td>http:\\\\www.recipezaar.com\\Garlic-Herb-Mashed-P...</td>\n",
              "    </tr>\n",
              "    <tr>\n",
              "      <th>3</th>\n",
              "      <td>Flying Saucers</td>\n",
              "      <td>bologna, cheese, potato</td>\n",
              "      <td>http:\\\\img.recipepuppy.com\\570039.jpg</td>\n",
              "      <td>http:\\\\www.recipezaar.com\\Flying-Saucers-55453</td>\n",
              "    </tr>\n",
              "    <tr>\n",
              "      <th>4</th>\n",
              "      <td>Pizza Potato Cakes</td>\n",
              "      <td>cheese, italian seasoning, potato</td>\n",
              "      <td>http:\\\\img.recipepuppy.com\\35759.jpg</td>\n",
              "      <td>http:\\\\www.recipezaar.com\\Pizza-Potato-Cakes-3...</td>\n",
              "    </tr>\n",
              "    <tr>\n",
              "      <th>...</th>\n",
              "      <td>...</td>\n",
              "      <td>...</td>\n",
              "      <td>...</td>\n",
              "      <td>...</td>\n",
              "    </tr>\n",
              "    <tr>\n",
              "      <th>95</th>\n",
              "      <td>Cheese &amp;amp; Potato Pancakes</td>\n",
              "      <td>cheese, flour, parsley, vegetable oil, onions,...</td>\n",
              "      <td>http:\\\\img.recipepuppy.com\\287606.jpg</td>\n",
              "      <td>http:\\\\www.recipezaar.com\\Cheese-Potato-Pancak...</td>\n",
              "    </tr>\n",
              "    <tr>\n",
              "      <th>96</th>\n",
              "      <td>Molten French Camembert Potato Gratin With Bac...</td>\n",
              "      <td>black pepper, butter, cheese, sour cream, whit...</td>\n",
              "      <td>http:\\\\img.recipepuppy.com\\40071.jpg</td>\n",
              "      <td>http:\\\\www.recipezaar.com\\Molten-French-Camemb...</td>\n",
              "    </tr>\n",
              "    <tr>\n",
              "      <th>97</th>\n",
              "      <td>Weight Watchers Au Gratin Potatoes 3 Pts (Low-...</td>\n",
              "      <td>black pepper, butter, flour, cheese, milk, oni...</td>\n",
              "      <td>http:\\\\img.recipepuppy.com\\221346.jpg</td>\n",
              "      <td>http:\\\\www.recipezaar.com\\Weight-Watchers-Au-G...</td>\n",
              "    </tr>\n",
              "    <tr>\n",
              "      <th>98</th>\n",
              "      <td>Betty Crocker Rancheros Casserole</td>\n",
              "      <td>potato, water, canned corn, green pepper, grou...</td>\n",
              "      <td>http:\\\\img.recipepuppy.com\\167680.jpg</td>\n",
              "      <td>http:\\\\www.recipezaar.com\\Betty-Crocker-Ranche...</td>\n",
              "    </tr>\n",
              "    <tr>\n",
              "      <th>99</th>\n",
              "      <td>Broccoli-Potato Casserole</td>\n",
              "      <td>butter, cheese, cream of mushroom soup, brocco...</td>\n",
              "      <td>http:\\\\img.recipepuppy.com\\195294.jpg</td>\n",
              "      <td>http:\\\\www.recipezaar.com\\Broccoli-Potato-Cass...</td>\n",
              "    </tr>\n",
              "  </tbody>\n",
              "</table>\n",
              "<p>100 rows × 4 columns</p>\n",
              "</div>"
            ],
            "text/plain": [
              "                                                title  ...                                               href\n",
              "0                                        Cheesy Fries  ...  http:\\\\www.kraftfoods.com\\kf\\recipes\\cheesy-fr...\n",
              "1                           Cheesy Pizza Baked Potato  ...  http:\\\\www.kraftfoods.com\\kf\\recipes\\cheesy-pi...\n",
              "2                         Garlic-Herb Mashed Potatoes  ...  http:\\\\www.recipezaar.com\\Garlic-Herb-Mashed-P...\n",
              "3                                      Flying Saucers  ...     http:\\\\www.recipezaar.com\\Flying-Saucers-55453\n",
              "4                                  Pizza Potato Cakes  ...  http:\\\\www.recipezaar.com\\Pizza-Potato-Cakes-3...\n",
              "..                                                ...  ...                                                ...\n",
              "95                       Cheese &amp; Potato Pancakes  ...  http:\\\\www.recipezaar.com\\Cheese-Potato-Pancak...\n",
              "96  Molten French Camembert Potato Gratin With Bac...  ...  http:\\\\www.recipezaar.com\\Molten-French-Camemb...\n",
              "97  Weight Watchers Au Gratin Potatoes 3 Pts (Low-...  ...  http:\\\\www.recipezaar.com\\Weight-Watchers-Au-G...\n",
              "98                  Betty Crocker Rancheros Casserole  ...  http:\\\\www.recipezaar.com\\Betty-Crocker-Ranche...\n",
              "99                          Broccoli-Potato Casserole  ...  http:\\\\www.recipezaar.com\\Broccoli-Potato-Cass...\n",
              "\n",
              "[100 rows x 4 columns]"
            ]
          },
          "metadata": {
            "tags": []
          },
          "execution_count": 121
        }
      ]
    },
    {
      "cell_type": "markdown",
      "metadata": {
        "id": "OesUNqgryv2a"
      },
      "source": [
        "### <b>1c Python datu struktūrā pārvērtiet ingredients atslēgas vērtību uz sarakstu.</b>\n",
        "\n",
        "Citiem vārdiem saskaldiet string ar sastāvdaļam -> uz list<br>\n",
        "Saglabājiet .json failā jauno struktūru"
      ]
    },
    {
      "cell_type": "code",
      "metadata": {
        "id": "nRC5oWh9zVcf",
        "outputId": "b29bfbb4-3e1a-4cd7-afd3-f2aec9cb096b",
        "colab": {
          "base_uri": "https://localhost:8080/",
          "height": 419
        }
      },
      "source": [
        "for i in recipDF.index:\n",
        "    recipDF.loc[i, 'ingredients'] = recipDF.loc[i, 'ingredients'].split(', ')\n",
        "\n",
        "recipDF.to_json('potato_n_cheese_ingr_listed.json')\n",
        "recipDF"
      ],
      "execution_count": 122,
      "outputs": [
        {
          "output_type": "execute_result",
          "data": {
            "text/html": [
              "<div>\n",
              "<style scoped>\n",
              "    .dataframe tbody tr th:only-of-type {\n",
              "        vertical-align: middle;\n",
              "    }\n",
              "\n",
              "    .dataframe tbody tr th {\n",
              "        vertical-align: top;\n",
              "    }\n",
              "\n",
              "    .dataframe thead th {\n",
              "        text-align: right;\n",
              "    }\n",
              "</style>\n",
              "<table border=\"1\" class=\"dataframe\">\n",
              "  <thead>\n",
              "    <tr style=\"text-align: right;\">\n",
              "      <th></th>\n",
              "      <th>title</th>\n",
              "      <th>href</th>\n",
              "      <th>ingredients</th>\n",
              "      <th>thumbnail</th>\n",
              "    </tr>\n",
              "  </thead>\n",
              "  <tbody>\n",
              "    <tr>\n",
              "      <th>0</th>\n",
              "      <td>Cheesy Fries</td>\n",
              "      <td>http:\\\\www.kraftfoods.com\\kf\\recipes\\cheesy-fr...</td>\n",
              "      <td>[cheese, potato]</td>\n",
              "      <td>http:\\\\img.recipepuppy.com\\638886.jpg</td>\n",
              "    </tr>\n",
              "    <tr>\n",
              "      <th>1</th>\n",
              "      <td>Cheesy Pizza Baked Potato</td>\n",
              "      <td>http:\\\\www.kraftfoods.com\\kf\\recipes\\cheesy-pi...</td>\n",
              "      <td>[cheese, potato, pizza sauce]</td>\n",
              "      <td>http:\\\\img.recipepuppy.com\\638907.jpg</td>\n",
              "    </tr>\n",
              "    <tr>\n",
              "      <th>2</th>\n",
              "      <td>Garlic-Herb Mashed Potatoes</td>\n",
              "      <td>http:\\\\www.recipezaar.com\\Garlic-Herb-Mashed-P...</td>\n",
              "      <td>[cheese, milk, potato]</td>\n",
              "      <td>http:\\\\img.recipepuppy.com\\648435.jpg</td>\n",
              "    </tr>\n",
              "    <tr>\n",
              "      <th>3</th>\n",
              "      <td>Flying Saucers</td>\n",
              "      <td>http:\\\\www.recipezaar.com\\Flying-Saucers-55453</td>\n",
              "      <td>[bologna, cheese, potato]</td>\n",
              "      <td>http:\\\\img.recipepuppy.com\\570039.jpg</td>\n",
              "    </tr>\n",
              "    <tr>\n",
              "      <th>4</th>\n",
              "      <td>Pizza Potato Cakes</td>\n",
              "      <td>http:\\\\www.recipezaar.com\\Pizza-Potato-Cakes-3...</td>\n",
              "      <td>[cheese, italian seasoning, potato]</td>\n",
              "      <td>http:\\\\img.recipepuppy.com\\35759.jpg</td>\n",
              "    </tr>\n",
              "    <tr>\n",
              "      <th>...</th>\n",
              "      <td>...</td>\n",
              "      <td>...</td>\n",
              "      <td>...</td>\n",
              "      <td>...</td>\n",
              "    </tr>\n",
              "    <tr>\n",
              "      <th>95</th>\n",
              "      <td>Cheese &amp;amp; Potato Pancakes</td>\n",
              "      <td>http:\\\\www.recipezaar.com\\Cheese-Potato-Pancak...</td>\n",
              "      <td>[cheese, flour, parsley, vegetable oil, onions...</td>\n",
              "      <td>http:\\\\img.recipepuppy.com\\287606.jpg</td>\n",
              "    </tr>\n",
              "    <tr>\n",
              "      <th>96</th>\n",
              "      <td>Molten French Camembert Potato Gratin With Bac...</td>\n",
              "      <td>http:\\\\www.recipezaar.com\\Molten-French-Camemb...</td>\n",
              "      <td>[black pepper, butter, cheese, sour cream, whi...</td>\n",
              "      <td>http:\\\\img.recipepuppy.com\\40071.jpg</td>\n",
              "    </tr>\n",
              "    <tr>\n",
              "      <th>97</th>\n",
              "      <td>Weight Watchers Au Gratin Potatoes 3 Pts (Low-...</td>\n",
              "      <td>http:\\\\www.recipezaar.com\\Weight-Watchers-Au-G...</td>\n",
              "      <td>[black pepper, butter, flour, cheese, milk, on...</td>\n",
              "      <td>http:\\\\img.recipepuppy.com\\221346.jpg</td>\n",
              "    </tr>\n",
              "    <tr>\n",
              "      <th>98</th>\n",
              "      <td>Betty Crocker Rancheros Casserole</td>\n",
              "      <td>http:\\\\www.recipezaar.com\\Betty-Crocker-Ranche...</td>\n",
              "      <td>[potato, water, canned corn, green pepper, gro...</td>\n",
              "      <td>http:\\\\img.recipepuppy.com\\167680.jpg</td>\n",
              "    </tr>\n",
              "    <tr>\n",
              "      <th>99</th>\n",
              "      <td>Broccoli-Potato Casserole</td>\n",
              "      <td>http:\\\\www.recipezaar.com\\Broccoli-Potato-Cass...</td>\n",
              "      <td>[butter, cheese, cream of mushroom soup, brocc...</td>\n",
              "      <td>http:\\\\img.recipepuppy.com\\195294.jpg</td>\n",
              "    </tr>\n",
              "  </tbody>\n",
              "</table>\n",
              "<p>100 rows × 4 columns</p>\n",
              "</div>"
            ],
            "text/plain": [
              "                                                title  ...                              thumbnail\n",
              "0                                        Cheesy Fries  ...  http:\\\\img.recipepuppy.com\\638886.jpg\n",
              "1                           Cheesy Pizza Baked Potato  ...  http:\\\\img.recipepuppy.com\\638907.jpg\n",
              "2                         Garlic-Herb Mashed Potatoes  ...  http:\\\\img.recipepuppy.com\\648435.jpg\n",
              "3                                      Flying Saucers  ...  http:\\\\img.recipepuppy.com\\570039.jpg\n",
              "4                                  Pizza Potato Cakes  ...   http:\\\\img.recipepuppy.com\\35759.jpg\n",
              "..                                                ...  ...                                    ...\n",
              "95                       Cheese &amp; Potato Pancakes  ...  http:\\\\img.recipepuppy.com\\287606.jpg\n",
              "96  Molten French Camembert Potato Gratin With Bac...  ...   http:\\\\img.recipepuppy.com\\40071.jpg\n",
              "97  Weight Watchers Au Gratin Potatoes 3 Pts (Low-...  ...  http:\\\\img.recipepuppy.com\\221346.jpg\n",
              "98                  Betty Crocker Rancheros Casserole  ...  http:\\\\img.recipepuppy.com\\167680.jpg\n",
              "99                          Broccoli-Potato Casserole  ...  http:\\\\img.recipepuppy.com\\195294.jpg\n",
              "\n",
              "[100 rows x 4 columns]"
            ]
          },
          "metadata": {
            "tags": []
          },
          "execution_count": 122
        }
      ]
    },
    {
      "cell_type": "markdown",
      "metadata": {
        "id": "aXtjTlbmyx0n"
      },
      "source": [
        "### <b>1d Atrodied visvairāk izmantotos ingredients kopā ar kartupeļiem un sieru.</b>\n",
        "\n",
        "Ieteikums: Varat izmantot counter update metodi<br>\n",
        "Izdrukājiet TOP 3 sastāvdaļas šajās receptēs."
      ]
    },
    {
      "cell_type": "code",
      "metadata": {
        "id": "ojtoFt_nzV_T",
        "outputId": "0defd6f3-8b39-4cd0-adea-eadaaa3ca06a",
        "colab": {
          "base_uri": "https://localhost:8080/",
          "height": 85
        }
      },
      "source": [
        "c = Counter()\n",
        "for ingr in recipDF['ingredients']:\n",
        "    c.update(ingr)\n",
        "\n",
        "ingridSeries = pd.Series(c).sort_values(ascending=False)\n",
        "ingridSeries.head(3)"
      ],
      "execution_count": 149,
      "outputs": [
        {
          "output_type": "execute_result",
          "data": {
            "text/plain": [
              "cheese    102\n",
              "potato    100\n",
              "salt       41\n",
              "dtype: int64"
            ]
          },
          "metadata": {
            "tags": []
          },
          "execution_count": 149
        }
      ]
    },
    {
      "cell_type": "markdown",
      "metadata": {
        "id": "RfWuJ5rUyzai"
      },
      "source": [
        "### <b>1.e uzzīmējiet histogrammu ar ingredients skaitu kuri tiek izmantoti kartupeļu un siera receptēs(100 receptēs)."
      ]
    },
    {
      "cell_type": "code",
      "metadata": {
        "id": "marPQfj3za-Q",
        "outputId": "bf8fdd81-2481-464e-fdee-a240e68806e2",
        "colab": {
          "base_uri": "https://localhost:8080/",
          "height": 542
        }
      },
      "source": [
        "px.bar(ingridSeries, x=ingridSeries.index, y=ingridSeries.values).show()"
      ],
      "execution_count": 155,
      "outputs": [
        {
          "output_type": "display_data",
          "data": {
            "text/html": [
              "<html>\n",
              "<head><meta charset=\"utf-8\" /></head>\n",
              "<body>\n",
              "    <div>\n",
              "            <script src=\"https://cdnjs.cloudflare.com/ajax/libs/mathjax/2.7.5/MathJax.js?config=TeX-AMS-MML_SVG\"></script><script type=\"text/javascript\">if (window.MathJax) {MathJax.Hub.Config({SVG: {font: \"STIX-Web\"}});}</script>\n",
              "                <script type=\"text/javascript\">window.PlotlyConfig = {MathJaxConfig: 'local'};</script>\n",
              "        <script src=\"https://cdn.plot.ly/plotly-latest.min.js\"></script>    \n",
              "            <div id=\"ecc080df-3568-416e-a352-0e24f2ebc441\" class=\"plotly-graph-div\" style=\"height:525px; width:100%;\"></div>\n",
              "            <script type=\"text/javascript\">\n",
              "                \n",
              "                    window.PLOTLYENV=window.PLOTLYENV || {};\n",
              "                    \n",
              "                if (document.getElementById(\"ecc080df-3568-416e-a352-0e24f2ebc441\")) {\n",
              "                    Plotly.newPlot(\n",
              "                        'ecc080df-3568-416e-a352-0e24f2ebc441',\n",
              "                        [{\"alignmentgroup\": \"True\", \"hoverlabel\": {\"namelength\": 0}, \"hovertemplate\": \"x=%{x}<br>y=%{y}\", \"legendgroup\": \"\", \"marker\": {\"color\": \"#636efa\"}, \"name\": \"\", \"offsetgroup\": \"\", \"orientation\": \"v\", \"showlegend\": false, \"textposition\": \"auto\", \"type\": \"bar\", \"x\": [\"cheese\", \"potato\", \"salt\", \"butter\", \"onions\", \"eggs\", \"ham\", \"lowfat milk\", \"black pepper\", \"sour cream\", \"cream\", \"flour\", \"cream of mushroom soup\", \"garlic\", \"bacon\", \"swiss cheese\", \"milk\", \"ground beef\", \"olive oil\", \"vegetable oil\", \"water\", \"parsley\", \"paprika\", \"pastry\", \"tea\", \"cream cheese\", \"sausage\", \"ranch dressing\", \"cream of chicken soup\", \"chicken\", \"salsa\", \"whole milk\", \"pie crust\", \"green pepper\", \"soup\", \"tomato\", \"onion soup mix\", \"mushroom\", \"broccoli\", \"pork chops\", \"spring onion\", \"celery\", \"cheddar cheese\", \"taco seasoning\", \"beef\", \"spinach\", \"beef broth\", \"vegetable soup\", \"dijon mustard\", \"bologna\", \"bread crumbs\", \"egg yolks\", \"french onion soup\", \"sherry\", \"pizza sauce\", \"vegetable\", \"vegetable broth\", \"cheese sauce\", \"nonstick cooking spray\", \"parmesan cheese\", \"skim milk\", \"sauce\", \"tuna\", \"red onions\", \"cornichons\", \"italian seasoning\", \"pearl onions\", \"french bread\", \"garlic powder\", \"lemon juice\", \"thyme\", \"ginger\", \"cumin\", \"peppers\", \"pimento\", \"crescent rolls\", \"green beans\", \"tomato soup\", \"seasoning\", \"hamburger\", \"tomato sauce\", \"pastry shells\", \"gruyere cheese\", \"pumpkin puree\", \"cayenne\", \"american cheese\", \"cottage cheese\", \"chives\", \"italian dressing\", \"corn\", \"nutmeg\", \"pepperoni\", \"hot sauce\", \"white wine\", \"canned corn\", \"yogurt\", \"sweet potato\", \"pickle\", \"asiago cheese\", \"cucumber\", \"salad dressing\", \"soup mix\", \"red pepper\", \"tarragon\", \"black beans\", \"pork\", \"creamed corn\", \"peas\", \"spam\", \"garlic salt\", \"dill weed\", \"mustard\", \"half and half\", \"carrot\", \"basil\", \"leek\", \"flour tortillas\", \"baking powder\", \"margarine\", \"sage\", \"white pepper\", \"jelly\", \"rosemary\", \"chervil\"], \"xaxis\": \"x\", \"y\": [102, 100, 41, 36, 29, 18, 15, 15, 14, 12, 12, 11, 7, 7, 7, 7, 7, 6, 5, 5, 4, 4, 4, 3, 3, 3, 3, 3, 3, 3, 3, 2, 2, 2, 2, 2, 2, 2, 2, 2, 2, 2, 2, 2, 2, 1, 1, 1, 1, 1, 1, 1, 1, 1, 1, 1, 1, 1, 1, 1, 1, 1, 1, 1, 1, 1, 1, 1, 1, 1, 1, 1, 1, 1, 1, 1, 1, 1, 1, 1, 1, 1, 1, 1, 1, 1, 1, 1, 1, 1, 1, 1, 1, 1, 1, 1, 1, 1, 1, 1, 1, 1, 1, 1, 1, 1, 1, 1, 1, 1, 1, 1, 1, 1, 1, 1, 1, 1, 1, 1, 1, 1, 1, 1], \"yaxis\": \"y\"}],\n",
              "                        {\"barmode\": \"relative\", \"legend\": {\"tracegroupgap\": 0}, \"margin\": {\"t\": 60}, \"template\": {\"data\": {\"bar\": [{\"error_x\": {\"color\": \"#2a3f5f\"}, \"error_y\": {\"color\": \"#2a3f5f\"}, \"marker\": {\"line\": {\"color\": \"#E5ECF6\", \"width\": 0.5}}, \"type\": \"bar\"}], \"barpolar\": [{\"marker\": {\"line\": {\"color\": \"#E5ECF6\", \"width\": 0.5}}, \"type\": \"barpolar\"}], \"carpet\": [{\"aaxis\": {\"endlinecolor\": \"#2a3f5f\", \"gridcolor\": \"white\", \"linecolor\": \"white\", \"minorgridcolor\": \"white\", \"startlinecolor\": \"#2a3f5f\"}, \"baxis\": {\"endlinecolor\": \"#2a3f5f\", \"gridcolor\": \"white\", \"linecolor\": \"white\", \"minorgridcolor\": \"white\", \"startlinecolor\": \"#2a3f5f\"}, \"type\": \"carpet\"}], \"choropleth\": [{\"colorbar\": {\"outlinewidth\": 0, \"ticks\": \"\"}, \"type\": \"choropleth\"}], \"contour\": [{\"colorbar\": {\"outlinewidth\": 0, \"ticks\": \"\"}, \"colorscale\": [[0.0, \"#0d0887\"], [0.1111111111111111, \"#46039f\"], [0.2222222222222222, \"#7201a8\"], [0.3333333333333333, \"#9c179e\"], [0.4444444444444444, \"#bd3786\"], [0.5555555555555556, \"#d8576b\"], [0.6666666666666666, \"#ed7953\"], [0.7777777777777778, \"#fb9f3a\"], [0.8888888888888888, \"#fdca26\"], [1.0, \"#f0f921\"]], \"type\": \"contour\"}], \"contourcarpet\": [{\"colorbar\": {\"outlinewidth\": 0, \"ticks\": \"\"}, \"type\": \"contourcarpet\"}], \"heatmap\": [{\"colorbar\": {\"outlinewidth\": 0, \"ticks\": \"\"}, \"colorscale\": [[0.0, \"#0d0887\"], [0.1111111111111111, \"#46039f\"], [0.2222222222222222, \"#7201a8\"], [0.3333333333333333, \"#9c179e\"], [0.4444444444444444, \"#bd3786\"], [0.5555555555555556, \"#d8576b\"], [0.6666666666666666, \"#ed7953\"], [0.7777777777777778, \"#fb9f3a\"], [0.8888888888888888, \"#fdca26\"], [1.0, \"#f0f921\"]], \"type\": \"heatmap\"}], \"heatmapgl\": [{\"colorbar\": {\"outlinewidth\": 0, \"ticks\": \"\"}, \"colorscale\": [[0.0, \"#0d0887\"], [0.1111111111111111, \"#46039f\"], [0.2222222222222222, \"#7201a8\"], [0.3333333333333333, \"#9c179e\"], [0.4444444444444444, \"#bd3786\"], [0.5555555555555556, \"#d8576b\"], [0.6666666666666666, \"#ed7953\"], [0.7777777777777778, \"#fb9f3a\"], [0.8888888888888888, \"#fdca26\"], [1.0, \"#f0f921\"]], \"type\": \"heatmapgl\"}], \"histogram\": [{\"marker\": {\"colorbar\": {\"outlinewidth\": 0, \"ticks\": \"\"}}, \"type\": \"histogram\"}], \"histogram2d\": [{\"colorbar\": {\"outlinewidth\": 0, \"ticks\": \"\"}, \"colorscale\": [[0.0, \"#0d0887\"], [0.1111111111111111, \"#46039f\"], [0.2222222222222222, \"#7201a8\"], [0.3333333333333333, \"#9c179e\"], [0.4444444444444444, \"#bd3786\"], [0.5555555555555556, \"#d8576b\"], [0.6666666666666666, \"#ed7953\"], [0.7777777777777778, \"#fb9f3a\"], [0.8888888888888888, \"#fdca26\"], [1.0, \"#f0f921\"]], \"type\": \"histogram2d\"}], \"histogram2dcontour\": [{\"colorbar\": {\"outlinewidth\": 0, \"ticks\": \"\"}, \"colorscale\": [[0.0, \"#0d0887\"], [0.1111111111111111, \"#46039f\"], [0.2222222222222222, \"#7201a8\"], [0.3333333333333333, \"#9c179e\"], [0.4444444444444444, \"#bd3786\"], [0.5555555555555556, \"#d8576b\"], [0.6666666666666666, \"#ed7953\"], [0.7777777777777778, \"#fb9f3a\"], [0.8888888888888888, \"#fdca26\"], [1.0, \"#f0f921\"]], \"type\": \"histogram2dcontour\"}], \"mesh3d\": [{\"colorbar\": {\"outlinewidth\": 0, \"ticks\": \"\"}, \"type\": \"mesh3d\"}], \"parcoords\": [{\"line\": {\"colorbar\": {\"outlinewidth\": 0, \"ticks\": \"\"}}, \"type\": \"parcoords\"}], \"pie\": [{\"automargin\": true, \"type\": \"pie\"}], \"scatter\": [{\"marker\": {\"colorbar\": {\"outlinewidth\": 0, \"ticks\": \"\"}}, \"type\": \"scatter\"}], \"scatter3d\": [{\"line\": {\"colorbar\": {\"outlinewidth\": 0, \"ticks\": \"\"}}, \"marker\": {\"colorbar\": {\"outlinewidth\": 0, \"ticks\": \"\"}}, \"type\": \"scatter3d\"}], \"scattercarpet\": [{\"marker\": {\"colorbar\": {\"outlinewidth\": 0, \"ticks\": \"\"}}, \"type\": \"scattercarpet\"}], \"scattergeo\": [{\"marker\": {\"colorbar\": {\"outlinewidth\": 0, \"ticks\": \"\"}}, \"type\": \"scattergeo\"}], \"scattergl\": [{\"marker\": {\"colorbar\": {\"outlinewidth\": 0, \"ticks\": \"\"}}, \"type\": \"scattergl\"}], \"scattermapbox\": [{\"marker\": {\"colorbar\": {\"outlinewidth\": 0, \"ticks\": \"\"}}, \"type\": \"scattermapbox\"}], \"scatterpolar\": [{\"marker\": {\"colorbar\": {\"outlinewidth\": 0, \"ticks\": \"\"}}, \"type\": \"scatterpolar\"}], \"scatterpolargl\": [{\"marker\": {\"colorbar\": {\"outlinewidth\": 0, \"ticks\": \"\"}}, \"type\": \"scatterpolargl\"}], \"scatterternary\": [{\"marker\": {\"colorbar\": {\"outlinewidth\": 0, \"ticks\": \"\"}}, \"type\": \"scatterternary\"}], \"surface\": [{\"colorbar\": {\"outlinewidth\": 0, \"ticks\": \"\"}, \"colorscale\": [[0.0, \"#0d0887\"], [0.1111111111111111, \"#46039f\"], [0.2222222222222222, \"#7201a8\"], [0.3333333333333333, \"#9c179e\"], [0.4444444444444444, \"#bd3786\"], [0.5555555555555556, \"#d8576b\"], [0.6666666666666666, \"#ed7953\"], [0.7777777777777778, \"#fb9f3a\"], [0.8888888888888888, \"#fdca26\"], [1.0, \"#f0f921\"]], \"type\": \"surface\"}], \"table\": [{\"cells\": {\"fill\": {\"color\": \"#EBF0F8\"}, \"line\": {\"color\": \"white\"}}, \"header\": {\"fill\": {\"color\": \"#C8D4E3\"}, \"line\": {\"color\": \"white\"}}, \"type\": \"table\"}]}, \"layout\": {\"annotationdefaults\": {\"arrowcolor\": \"#2a3f5f\", \"arrowhead\": 0, \"arrowwidth\": 1}, \"coloraxis\": {\"colorbar\": {\"outlinewidth\": 0, \"ticks\": \"\"}}, \"colorscale\": {\"diverging\": [[0, \"#8e0152\"], [0.1, \"#c51b7d\"], [0.2, \"#de77ae\"], [0.3, \"#f1b6da\"], [0.4, \"#fde0ef\"], [0.5, \"#f7f7f7\"], [0.6, \"#e6f5d0\"], [0.7, \"#b8e186\"], [0.8, \"#7fbc41\"], [0.9, \"#4d9221\"], [1, \"#276419\"]], \"sequential\": [[0.0, \"#0d0887\"], [0.1111111111111111, \"#46039f\"], [0.2222222222222222, \"#7201a8\"], [0.3333333333333333, \"#9c179e\"], [0.4444444444444444, \"#bd3786\"], [0.5555555555555556, \"#d8576b\"], [0.6666666666666666, \"#ed7953\"], [0.7777777777777778, \"#fb9f3a\"], [0.8888888888888888, \"#fdca26\"], [1.0, \"#f0f921\"]], \"sequentialminus\": [[0.0, \"#0d0887\"], [0.1111111111111111, \"#46039f\"], [0.2222222222222222, \"#7201a8\"], [0.3333333333333333, \"#9c179e\"], [0.4444444444444444, \"#bd3786\"], [0.5555555555555556, \"#d8576b\"], [0.6666666666666666, \"#ed7953\"], [0.7777777777777778, \"#fb9f3a\"], [0.8888888888888888, \"#fdca26\"], [1.0, \"#f0f921\"]]}, \"colorway\": [\"#636efa\", \"#EF553B\", \"#00cc96\", \"#ab63fa\", \"#FFA15A\", \"#19d3f3\", \"#FF6692\", \"#B6E880\", \"#FF97FF\", \"#FECB52\"], \"font\": {\"color\": \"#2a3f5f\"}, \"geo\": {\"bgcolor\": \"white\", \"lakecolor\": \"white\", \"landcolor\": \"#E5ECF6\", \"showlakes\": true, \"showland\": true, \"subunitcolor\": \"white\"}, \"hoverlabel\": {\"align\": \"left\"}, \"hovermode\": \"closest\", \"mapbox\": {\"style\": \"light\"}, \"paper_bgcolor\": \"white\", \"plot_bgcolor\": \"#E5ECF6\", \"polar\": {\"angularaxis\": {\"gridcolor\": \"white\", \"linecolor\": \"white\", \"ticks\": \"\"}, \"bgcolor\": \"#E5ECF6\", \"radialaxis\": {\"gridcolor\": \"white\", \"linecolor\": \"white\", \"ticks\": \"\"}}, \"scene\": {\"xaxis\": {\"backgroundcolor\": \"#E5ECF6\", \"gridcolor\": \"white\", \"gridwidth\": 2, \"linecolor\": \"white\", \"showbackground\": true, \"ticks\": \"\", \"zerolinecolor\": \"white\"}, \"yaxis\": {\"backgroundcolor\": \"#E5ECF6\", \"gridcolor\": \"white\", \"gridwidth\": 2, \"linecolor\": \"white\", \"showbackground\": true, \"ticks\": \"\", \"zerolinecolor\": \"white\"}, \"zaxis\": {\"backgroundcolor\": \"#E5ECF6\", \"gridcolor\": \"white\", \"gridwidth\": 2, \"linecolor\": \"white\", \"showbackground\": true, \"ticks\": \"\", \"zerolinecolor\": \"white\"}}, \"shapedefaults\": {\"line\": {\"color\": \"#2a3f5f\"}}, \"ternary\": {\"aaxis\": {\"gridcolor\": \"white\", \"linecolor\": \"white\", \"ticks\": \"\"}, \"baxis\": {\"gridcolor\": \"white\", \"linecolor\": \"white\", \"ticks\": \"\"}, \"bgcolor\": \"#E5ECF6\", \"caxis\": {\"gridcolor\": \"white\", \"linecolor\": \"white\", \"ticks\": \"\"}}, \"title\": {\"x\": 0.05}, \"xaxis\": {\"automargin\": true, \"gridcolor\": \"white\", \"linecolor\": \"white\", \"ticks\": \"\", \"title\": {\"standoff\": 15}, \"zerolinecolor\": \"white\", \"zerolinewidth\": 2}, \"yaxis\": {\"automargin\": true, \"gridcolor\": \"white\", \"linecolor\": \"white\", \"ticks\": \"\", \"title\": {\"standoff\": 15}, \"zerolinecolor\": \"white\", \"zerolinewidth\": 2}}}, \"xaxis\": {\"anchor\": \"y\", \"domain\": [0.0, 1.0], \"title\": {\"text\": \"x\"}}, \"yaxis\": {\"anchor\": \"x\", \"domain\": [0.0, 1.0], \"title\": {\"text\": \"y\"}}},\n",
              "                        {\"responsive\": true}\n",
              "                    ).then(function(){\n",
              "                            \n",
              "var gd = document.getElementById('ecc080df-3568-416e-a352-0e24f2ebc441');\n",
              "var x = new MutationObserver(function (mutations, observer) {{\n",
              "        var display = window.getComputedStyle(gd).display;\n",
              "        if (!display || display === 'none') {{\n",
              "            console.log([gd, 'removed!']);\n",
              "            Plotly.purge(gd);\n",
              "            observer.disconnect();\n",
              "        }}\n",
              "}});\n",
              "\n",
              "// Listen for the removal of the full notebook cells\n",
              "var notebookContainer = gd.closest('#notebook-container');\n",
              "if (notebookContainer) {{\n",
              "    x.observe(notebookContainer, {childList: true});\n",
              "}}\n",
              "\n",
              "// Listen for the clearing of the current output cell\n",
              "var outputEl = gd.closest('.output');\n",
              "if (outputEl) {{\n",
              "    x.observe(outputEl, {childList: true});\n",
              "}}\n",
              "\n",
              "                        })\n",
              "                };\n",
              "                \n",
              "            </script>\n",
              "        </div>\n",
              "</body>\n",
              "</html>"
            ]
          },
          "metadata": {
            "tags": []
          }
        }
      ]
    },
    {
      "cell_type": "markdown",
      "metadata": {
        "id": "EGGX817Iy0gd"
      },
      "source": [
        "### <b>1.f kā būtu ar sastāvdaļām omelet histogrammu?</b>\n",
        "\n",
        "Bonus, uztaisiet meklētāju, kurš paprasa lietotājam, kādu ēdienu meklēt\n",
        "\n",
        "Super bonuss būtu atrast kādu API kas ļauj tulkot latviski -> angliski, tad lietotājs ievadīt latviski bet receptes tiktu meklētas angliski.\n",
        "\n",
        "Tas būtu gala projekta vērts."
      ]
    },
    {
      "cell_type": "code",
      "metadata": {
        "id": "EkRcaf6HzbmK",
        "outputId": "84001c1a-dc3f-4ed9-a663-a2734baa9c4c",
        "colab": {
          "base_uri": "https://localhost:8080/",
          "height": 576
        }
      },
      "source": [
        "recipe = input('Please enter a dish:\\n')\n",
        "\n",
        "firstPath = f'http://www.recipepuppy.com/api/?q={recipe}&p=1'\n",
        "recipDF = pd.DataFrame(eval(requests.get(firstPath).text)['results'])\n",
        "\n",
        "i = 1\n",
        "ii = 0\n",
        "while i <= 9 or ii > 20:\n",
        "    newPath = f'http://www.recipepuppy.com/api/?q={recipe}&p={2+ii}'\n",
        "    recipies = requests.get(newPath)\n",
        "\n",
        "    if str(recipies) == '<Response [200]>':\n",
        "        recipDF = recipDF.append(pd.DataFrame(eval(recipies.text)['results']))\n",
        "        i += 1    \n",
        "    ii += 1\n",
        "\n",
        "recipDF.index = list(range(len(recipDF.index)))\n",
        "recipDF['title'] = recipDF['title'].apply(str.strip)\n",
        "\n",
        "for i in recipDF.index:\n",
        "    recipDF.loc[i, 'ingredients'] = recipDF.loc[i, 'ingredients'].split(', ')\n",
        "\n",
        "c = Counter()\n",
        "for ingr in recipDF['ingredients']:\n",
        "    c.update(ingr)\n",
        "\n",
        "ingridSeries = pd.Series(c).sort_values(ascending=False)\n",
        "ingridSeries = ingridSeries[ingridSeries > ingridSeries.quantile(0.25)]\n",
        "\n",
        "px.bar(ingridSeries, x=ingridSeries.index, \n",
        "       y=ingridSeries.values,\n",
        "       title='Main ingridients for ' + recipe).show()"
      ],
      "execution_count": 161,
      "outputs": [
        {
          "output_type": "stream",
          "text": [
            "Please enter a dish:\n",
            "stew\n"
          ],
          "name": "stdout"
        },
        {
          "output_type": "display_data",
          "data": {
            "text/html": [
              "<html>\n",
              "<head><meta charset=\"utf-8\" /></head>\n",
              "<body>\n",
              "    <div>\n",
              "            <script src=\"https://cdnjs.cloudflare.com/ajax/libs/mathjax/2.7.5/MathJax.js?config=TeX-AMS-MML_SVG\"></script><script type=\"text/javascript\">if (window.MathJax) {MathJax.Hub.Config({SVG: {font: \"STIX-Web\"}});}</script>\n",
              "                <script type=\"text/javascript\">window.PlotlyConfig = {MathJaxConfig: 'local'};</script>\n",
              "        <script src=\"https://cdn.plot.ly/plotly-latest.min.js\"></script>    \n",
              "            <div id=\"3fcf6797-708c-4c9b-9539-51e3e942f9be\" class=\"plotly-graph-div\" style=\"height:525px; width:100%;\"></div>\n",
              "            <script type=\"text/javascript\">\n",
              "                \n",
              "                    window.PLOTLYENV=window.PLOTLYENV || {};\n",
              "                    \n",
              "                if (document.getElementById(\"3fcf6797-708c-4c9b-9539-51e3e942f9be\")) {\n",
              "                    Plotly.newPlot(\n",
              "                        '3fcf6797-708c-4c9b-9539-51e3e942f9be',\n",
              "                        [{\"alignmentgroup\": \"True\", \"hoverlabel\": {\"namelength\": 0}, \"hovertemplate\": \"x=%{x}<br>y=%{y}\", \"legendgroup\": \"\", \"marker\": {\"color\": \"#636efa\"}, \"name\": \"\", \"offsetgroup\": \"\", \"orientation\": \"v\", \"showlegend\": false, \"textposition\": \"auto\", \"type\": \"bar\", \"x\": [\"onions\", \"salt\", \"carrot\", \"potato\", \"garlic\", \"black pepper\", \"water\", \"flour\", \"beef\", \"celery\", \"tomato\", \"vegetable oil\", \"beef broth\", \"olive oil\", \"parsley\", \"thyme\", \"worcestershire sauce\", \"bay leaf\", \"peas\", \"mushroom\", \"corn\", \"butter\", \"chicken\", \"bay leaves\", \"paprika\", \"chicken broth\", \"green pepper\", \"sugar\", \"beef bouillon granules\", \"red wine\", \"cumin\", \"bacon\", \"green beans\", \"basil\", \"hot sauce\", \"rice\", \"chili powder\", \"lemon juice\", \"cabbage\", \"red potatoes\", \"cayenne\", \"cornstarch\", \"pork\", \"red pepper\", \"garlic powder\", \"vegetable broth\", \"beer\", \"ground beef\", \"tomato sauce\", \"tomato paste\", \"parsnip\", \"red pepper flakes\", \"oregano\", \"lamb\", \"shallot\", \"italian seasoning\", \"garlic salt\", \"shrimp\", \"cilantro\", \"soy sauce\", \"sweet potato\", \"ketchup\", \"ginger\", \"yellow squash\", \"white potato\", \"eggs\", \"white wine\", \"tapioca\", \"lentils\", \"margarine\", \"seasoning\", \"old bay seasoning\", \"chickpeas\", \"rosemary\", \"pearl onions\", \"red onions\", \"red wine vinegar\", \"bread crumbs\", \"pork chops\", \"yellow onions\", \"steak\", \"barley\", \"green chilies\", \"brown sugar\", \"jalapeno\", \"onion soup mix\", \"marjoram\", \"cloves\", \"celery seed\", \"ground pork\", \"turkey\", \"cinnamon\", \"barbecue sauce\", \"sea salt\", \"pumpkin puree\", \"tomato juice\", \"juice\", \"apple cider\", \"string beans\", \"nutmeg\", \"baby carrot\", \"caraway seed\", \"kosher salt\", \"creamed corn\", \"sauce\", \"lamb shoulder\", \"peanuts\", \"venison\", \"chuck roast\", \"allspice\", \"oysters\", \"half and half\", \"peanut butter\", \"zucchini\", \"leek\", \"rutabaga\", \"curry powder\", \"heavy cream\", \"okra\", \"kale\", \"lime juice\", \"lime\", \"noodles\"], \"xaxis\": \"x\", \"y\": [76, 70, 58, 54, 47, 47, 44, 41, 38, 29, 28, 24, 23, 22, 20, 18, 17, 16, 16, 16, 14, 13, 12, 11, 11, 11, 10, 10, 10, 9, 8, 8, 7, 7, 7, 7, 7, 7, 7, 7, 6, 6, 6, 6, 6, 6, 6, 6, 6, 6, 6, 6, 6, 5, 5, 5, 4, 4, 4, 4, 4, 4, 4, 4, 4, 3, 3, 3, 3, 3, 3, 3, 3, 3, 3, 3, 3, 3, 3, 3, 3, 3, 3, 3, 3, 3, 3, 3, 3, 2, 2, 2, 2, 2, 2, 2, 2, 2, 2, 2, 2, 2, 2, 2, 2, 2, 2, 2, 2, 2, 2, 2, 2, 2, 2, 2, 2, 2, 2, 2, 2, 2, 2], \"yaxis\": \"y\"}],\n",
              "                        {\"barmode\": \"relative\", \"legend\": {\"tracegroupgap\": 0}, \"template\": {\"data\": {\"bar\": [{\"error_x\": {\"color\": \"#2a3f5f\"}, \"error_y\": {\"color\": \"#2a3f5f\"}, \"marker\": {\"line\": {\"color\": \"#E5ECF6\", \"width\": 0.5}}, \"type\": \"bar\"}], \"barpolar\": [{\"marker\": {\"line\": {\"color\": \"#E5ECF6\", \"width\": 0.5}}, \"type\": \"barpolar\"}], \"carpet\": [{\"aaxis\": {\"endlinecolor\": \"#2a3f5f\", \"gridcolor\": \"white\", \"linecolor\": \"white\", \"minorgridcolor\": \"white\", \"startlinecolor\": \"#2a3f5f\"}, \"baxis\": {\"endlinecolor\": \"#2a3f5f\", \"gridcolor\": \"white\", \"linecolor\": \"white\", \"minorgridcolor\": \"white\", \"startlinecolor\": \"#2a3f5f\"}, \"type\": \"carpet\"}], \"choropleth\": [{\"colorbar\": {\"outlinewidth\": 0, \"ticks\": \"\"}, \"type\": \"choropleth\"}], \"contour\": [{\"colorbar\": {\"outlinewidth\": 0, \"ticks\": \"\"}, \"colorscale\": [[0.0, \"#0d0887\"], [0.1111111111111111, \"#46039f\"], [0.2222222222222222, \"#7201a8\"], [0.3333333333333333, \"#9c179e\"], [0.4444444444444444, \"#bd3786\"], [0.5555555555555556, \"#d8576b\"], [0.6666666666666666, \"#ed7953\"], [0.7777777777777778, \"#fb9f3a\"], [0.8888888888888888, \"#fdca26\"], [1.0, \"#f0f921\"]], \"type\": \"contour\"}], \"contourcarpet\": [{\"colorbar\": {\"outlinewidth\": 0, \"ticks\": \"\"}, \"type\": \"contourcarpet\"}], \"heatmap\": [{\"colorbar\": {\"outlinewidth\": 0, \"ticks\": \"\"}, \"colorscale\": [[0.0, \"#0d0887\"], [0.1111111111111111, \"#46039f\"], [0.2222222222222222, \"#7201a8\"], [0.3333333333333333, \"#9c179e\"], [0.4444444444444444, \"#bd3786\"], [0.5555555555555556, \"#d8576b\"], [0.6666666666666666, \"#ed7953\"], [0.7777777777777778, \"#fb9f3a\"], [0.8888888888888888, \"#fdca26\"], [1.0, \"#f0f921\"]], \"type\": \"heatmap\"}], \"heatmapgl\": [{\"colorbar\": {\"outlinewidth\": 0, \"ticks\": \"\"}, \"colorscale\": [[0.0, \"#0d0887\"], [0.1111111111111111, \"#46039f\"], [0.2222222222222222, \"#7201a8\"], [0.3333333333333333, \"#9c179e\"], [0.4444444444444444, \"#bd3786\"], [0.5555555555555556, \"#d8576b\"], [0.6666666666666666, \"#ed7953\"], [0.7777777777777778, \"#fb9f3a\"], [0.8888888888888888, \"#fdca26\"], [1.0, \"#f0f921\"]], \"type\": \"heatmapgl\"}], \"histogram\": [{\"marker\": {\"colorbar\": {\"outlinewidth\": 0, \"ticks\": \"\"}}, \"type\": \"histogram\"}], \"histogram2d\": [{\"colorbar\": {\"outlinewidth\": 0, \"ticks\": \"\"}, \"colorscale\": [[0.0, \"#0d0887\"], [0.1111111111111111, \"#46039f\"], [0.2222222222222222, \"#7201a8\"], [0.3333333333333333, \"#9c179e\"], [0.4444444444444444, \"#bd3786\"], [0.5555555555555556, \"#d8576b\"], [0.6666666666666666, \"#ed7953\"], [0.7777777777777778, \"#fb9f3a\"], [0.8888888888888888, \"#fdca26\"], [1.0, \"#f0f921\"]], \"type\": \"histogram2d\"}], \"histogram2dcontour\": [{\"colorbar\": {\"outlinewidth\": 0, \"ticks\": \"\"}, \"colorscale\": [[0.0, \"#0d0887\"], [0.1111111111111111, \"#46039f\"], [0.2222222222222222, \"#7201a8\"], [0.3333333333333333, \"#9c179e\"], [0.4444444444444444, \"#bd3786\"], [0.5555555555555556, \"#d8576b\"], [0.6666666666666666, \"#ed7953\"], [0.7777777777777778, \"#fb9f3a\"], [0.8888888888888888, \"#fdca26\"], [1.0, \"#f0f921\"]], \"type\": \"histogram2dcontour\"}], \"mesh3d\": [{\"colorbar\": {\"outlinewidth\": 0, \"ticks\": \"\"}, \"type\": \"mesh3d\"}], \"parcoords\": [{\"line\": {\"colorbar\": {\"outlinewidth\": 0, \"ticks\": \"\"}}, \"type\": \"parcoords\"}], \"pie\": [{\"automargin\": true, \"type\": \"pie\"}], \"scatter\": [{\"marker\": {\"colorbar\": {\"outlinewidth\": 0, \"ticks\": \"\"}}, \"type\": \"scatter\"}], \"scatter3d\": [{\"line\": {\"colorbar\": {\"outlinewidth\": 0, \"ticks\": \"\"}}, \"marker\": {\"colorbar\": {\"outlinewidth\": 0, \"ticks\": \"\"}}, \"type\": \"scatter3d\"}], \"scattercarpet\": [{\"marker\": {\"colorbar\": {\"outlinewidth\": 0, \"ticks\": \"\"}}, \"type\": \"scattercarpet\"}], \"scattergeo\": [{\"marker\": {\"colorbar\": {\"outlinewidth\": 0, \"ticks\": \"\"}}, \"type\": \"scattergeo\"}], \"scattergl\": [{\"marker\": {\"colorbar\": {\"outlinewidth\": 0, \"ticks\": \"\"}}, \"type\": \"scattergl\"}], \"scattermapbox\": [{\"marker\": {\"colorbar\": {\"outlinewidth\": 0, \"ticks\": \"\"}}, \"type\": \"scattermapbox\"}], \"scatterpolar\": [{\"marker\": {\"colorbar\": {\"outlinewidth\": 0, \"ticks\": \"\"}}, \"type\": \"scatterpolar\"}], \"scatterpolargl\": [{\"marker\": {\"colorbar\": {\"outlinewidth\": 0, \"ticks\": \"\"}}, \"type\": \"scatterpolargl\"}], \"scatterternary\": [{\"marker\": {\"colorbar\": {\"outlinewidth\": 0, \"ticks\": \"\"}}, \"type\": \"scatterternary\"}], \"surface\": [{\"colorbar\": {\"outlinewidth\": 0, \"ticks\": \"\"}, \"colorscale\": [[0.0, \"#0d0887\"], [0.1111111111111111, \"#46039f\"], [0.2222222222222222, \"#7201a8\"], [0.3333333333333333, \"#9c179e\"], [0.4444444444444444, \"#bd3786\"], [0.5555555555555556, \"#d8576b\"], [0.6666666666666666, \"#ed7953\"], [0.7777777777777778, \"#fb9f3a\"], [0.8888888888888888, \"#fdca26\"], [1.0, \"#f0f921\"]], \"type\": \"surface\"}], \"table\": [{\"cells\": {\"fill\": {\"color\": \"#EBF0F8\"}, \"line\": {\"color\": \"white\"}}, \"header\": {\"fill\": {\"color\": \"#C8D4E3\"}, \"line\": {\"color\": \"white\"}}, \"type\": \"table\"}]}, \"layout\": {\"annotationdefaults\": {\"arrowcolor\": \"#2a3f5f\", \"arrowhead\": 0, \"arrowwidth\": 1}, \"coloraxis\": {\"colorbar\": {\"outlinewidth\": 0, \"ticks\": \"\"}}, \"colorscale\": {\"diverging\": [[0, \"#8e0152\"], [0.1, \"#c51b7d\"], [0.2, \"#de77ae\"], [0.3, \"#f1b6da\"], [0.4, \"#fde0ef\"], [0.5, \"#f7f7f7\"], [0.6, \"#e6f5d0\"], [0.7, \"#b8e186\"], [0.8, \"#7fbc41\"], [0.9, \"#4d9221\"], [1, \"#276419\"]], \"sequential\": [[0.0, \"#0d0887\"], [0.1111111111111111, \"#46039f\"], [0.2222222222222222, \"#7201a8\"], [0.3333333333333333, \"#9c179e\"], [0.4444444444444444, \"#bd3786\"], [0.5555555555555556, \"#d8576b\"], [0.6666666666666666, \"#ed7953\"], [0.7777777777777778, \"#fb9f3a\"], [0.8888888888888888, \"#fdca26\"], [1.0, \"#f0f921\"]], \"sequentialminus\": [[0.0, \"#0d0887\"], [0.1111111111111111, \"#46039f\"], [0.2222222222222222, \"#7201a8\"], [0.3333333333333333, \"#9c179e\"], [0.4444444444444444, \"#bd3786\"], [0.5555555555555556, \"#d8576b\"], [0.6666666666666666, \"#ed7953\"], [0.7777777777777778, \"#fb9f3a\"], [0.8888888888888888, \"#fdca26\"], [1.0, \"#f0f921\"]]}, \"colorway\": [\"#636efa\", \"#EF553B\", \"#00cc96\", \"#ab63fa\", \"#FFA15A\", \"#19d3f3\", \"#FF6692\", \"#B6E880\", \"#FF97FF\", \"#FECB52\"], \"font\": {\"color\": \"#2a3f5f\"}, \"geo\": {\"bgcolor\": \"white\", \"lakecolor\": \"white\", \"landcolor\": \"#E5ECF6\", \"showlakes\": true, \"showland\": true, \"subunitcolor\": \"white\"}, \"hoverlabel\": {\"align\": \"left\"}, \"hovermode\": \"closest\", \"mapbox\": {\"style\": \"light\"}, \"paper_bgcolor\": \"white\", \"plot_bgcolor\": \"#E5ECF6\", \"polar\": {\"angularaxis\": {\"gridcolor\": \"white\", \"linecolor\": \"white\", \"ticks\": \"\"}, \"bgcolor\": \"#E5ECF6\", \"radialaxis\": {\"gridcolor\": \"white\", \"linecolor\": \"white\", \"ticks\": \"\"}}, \"scene\": {\"xaxis\": {\"backgroundcolor\": \"#E5ECF6\", \"gridcolor\": \"white\", \"gridwidth\": 2, \"linecolor\": \"white\", \"showbackground\": true, \"ticks\": \"\", \"zerolinecolor\": \"white\"}, \"yaxis\": {\"backgroundcolor\": \"#E5ECF6\", \"gridcolor\": \"white\", \"gridwidth\": 2, \"linecolor\": \"white\", \"showbackground\": true, \"ticks\": \"\", \"zerolinecolor\": \"white\"}, \"zaxis\": {\"backgroundcolor\": \"#E5ECF6\", \"gridcolor\": \"white\", \"gridwidth\": 2, \"linecolor\": \"white\", \"showbackground\": true, \"ticks\": \"\", \"zerolinecolor\": \"white\"}}, \"shapedefaults\": {\"line\": {\"color\": \"#2a3f5f\"}}, \"ternary\": {\"aaxis\": {\"gridcolor\": \"white\", \"linecolor\": \"white\", \"ticks\": \"\"}, \"baxis\": {\"gridcolor\": \"white\", \"linecolor\": \"white\", \"ticks\": \"\"}, \"bgcolor\": \"#E5ECF6\", \"caxis\": {\"gridcolor\": \"white\", \"linecolor\": \"white\", \"ticks\": \"\"}}, \"title\": {\"x\": 0.05}, \"xaxis\": {\"automargin\": true, \"gridcolor\": \"white\", \"linecolor\": \"white\", \"ticks\": \"\", \"title\": {\"standoff\": 15}, \"zerolinecolor\": \"white\", \"zerolinewidth\": 2}, \"yaxis\": {\"automargin\": true, \"gridcolor\": \"white\", \"linecolor\": \"white\", \"ticks\": \"\", \"title\": {\"standoff\": 15}, \"zerolinecolor\": \"white\", \"zerolinewidth\": 2}}}, \"title\": {\"text\": \"Main ingridients for stew\"}, \"xaxis\": {\"anchor\": \"y\", \"domain\": [0.0, 1.0], \"title\": {\"text\": \"x\"}}, \"yaxis\": {\"anchor\": \"x\", \"domain\": [0.0, 1.0], \"title\": {\"text\": \"y\"}}},\n",
              "                        {\"responsive\": true}\n",
              "                    ).then(function(){\n",
              "                            \n",
              "var gd = document.getElementById('3fcf6797-708c-4c9b-9539-51e3e942f9be');\n",
              "var x = new MutationObserver(function (mutations, observer) {{\n",
              "        var display = window.getComputedStyle(gd).display;\n",
              "        if (!display || display === 'none') {{\n",
              "            console.log([gd, 'removed!']);\n",
              "            Plotly.purge(gd);\n",
              "            observer.disconnect();\n",
              "        }}\n",
              "}});\n",
              "\n",
              "// Listen for the removal of the full notebook cells\n",
              "var notebookContainer = gd.closest('#notebook-container');\n",
              "if (notebookContainer) {{\n",
              "    x.observe(notebookContainer, {childList: true});\n",
              "}}\n",
              "\n",
              "// Listen for the clearing of the current output cell\n",
              "var outputEl = gd.closest('.output');\n",
              "if (outputEl) {{\n",
              "    x.observe(outputEl, {childList: true});\n",
              "}}\n",
              "\n",
              "                        })\n",
              "                };\n",
              "                \n",
              "            </script>\n",
              "        </div>\n",
              "</body>\n",
              "</html>"
            ]
          },
          "metadata": {
            "tags": []
          }
        }
      ]
    }
  ]
}