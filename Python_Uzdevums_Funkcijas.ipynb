{
  "nbformat": 4,
  "nbformat_minor": 0,
  "metadata": {
    "colab": {
      "name": "Python Uzdevums Funkcijas.ipynb",
      "provenance": [],
      "collapsed_sections": [],
      "authorship_tag": "ABX9TyO49se4IWlKC5HBPtAfMDYN",
      "include_colab_link": true
    },
    "kernelspec": {
      "name": "python3",
      "display_name": "Python 3"
    }
  },
  "cells": [
    {
      "cell_type": "markdown",
      "metadata": {
        "id": "view-in-github",
        "colab_type": "text"
      },
      "source": [
        "<a href=\"https://colab.research.google.com/github/Narusi/Python-Kurss/blob/master/Python_Uzdevums_Funkcijas.ipynb\" target=\"_parent\"><img src=\"https://colab.research.google.com/assets/colab-badge.svg\" alt=\"Open In Colab\"/></a>"
      ]
    },
    {
      "cell_type": "markdown",
      "metadata": {
        "id": "PagFeZKDSpPZ",
        "colab_type": "text"
      },
      "source": [
        "<b>1. Lielais rezultāts</b>\n",
        "\n",
        "Uzrakstiet funkciju add_mult, kurai nepieciešami trīs parametri/argumenti <br>\n",
        "Atgriež rezultātu, kas ir 2 mazāko argumentu summa reizināta ar lielāko argumenta vērtību.<br>\n",
        "PS Uzskatīsim, ka funkcijai vienmēr tiks padoti skaitliski parametri, varam tipus nepārbaudīt.<br>\n",
        "Iespējami dažādi risinājumi, piemēram ar list struktūru varētu būt tīri eleganti.<br>\n",
        "Piemērs <i>add_mult(2,5,4) -> atgriezīs (2+4)*5 = 30</i>"
      ]
    },
    {
      "cell_type": "code",
      "metadata": {
        "id": "hOEOt1nNShzw",
        "colab_type": "code",
        "colab": {
          "base_uri": "https://localhost:8080/",
          "height": 35
        },
        "outputId": "ad9a38c6-90aa-40f1-9a08-e7f51ff7f642"
      },
      "source": [
        "def add_mult(a,b,c):\n",
        "    return (a+c)*b\n",
        "\n",
        "f\"add_mult(2,5,4) = {add_mult(2,5,4)}\""
      ],
      "execution_count": 6,
      "outputs": [
        {
          "output_type": "execute_result",
          "data": {
            "application/vnd.google.colaboratory.intrinsic+json": {
              "type": "string"
            },
            "text/plain": [
              "'add_mult(2,5,4) = 30'"
            ]
          },
          "metadata": {
            "tags": []
          },
          "execution_count": 6
        }
      ]
    },
    {
      "cell_type": "markdown",
      "metadata": {
        "id": "YfDxXhsRS7z8",
        "colab_type": "text"
      },
      "source": [
        "<b>2. Palindroms</b><br>\n",
        "\n",
        "Uzrakstiet funkciju <i>is_palindrome(text)</i>, kas atgriež bool True vai False atkarībā vai vārds vai teikums ir lasāms vienādi no abām pusēm.<br><br>\n",
        "\n",
        "PS no sākuma varat sākt ar viena vārda risinājumu, bet pilns risinājums <u>ignorēs atstarpes(whitespace) un lielos/mazos burtus</u>\n",
        "\n",
        "<i>is_palindrome(\"Alus ari ira      sula\") -> True</i>"
      ]
    },
    {
      "cell_type": "code",
      "metadata": {
        "id": "LQ3Kth_9TWXu",
        "colab_type": "code",
        "colab": {
          "base_uri": "https://localhost:8080/",
          "height": 35
        },
        "outputId": "dc1bfae6-bda7-42f9-9752-85a1d46d2d01"
      },
      "source": [
        "def is_palindrome(text):\n",
        "    palindrome = True\n",
        "    txtList = text.split(\" \")\n",
        "    for i in range(len(txtList)):        \n",
        "        if txtList[i].lower() != txtList[-i-1][::-1].lower():\n",
        "            palindrome = False\n",
        "    return palindrome\n",
        "\n",
        "f'is_palindrome(\"Alus ari ira sula\") -> {is_palindrome(\"Alus ari ira sula\")}'"
      ],
      "execution_count": 19,
      "outputs": [
        {
          "output_type": "execute_result",
          "data": {
            "application/vnd.google.colaboratory.intrinsic+json": {
              "type": "string"
            },
            "text/plain": [
              "'is_palindrome(\"Alus ari ira sula\") -> True'"
            ]
          },
          "metadata": {
            "tags": []
          },
          "execution_count": 19
        }
      ]
    },
    {
      "cell_type": "markdown",
      "metadata": {
        "id": "mIy57hcaTYjc",
        "colab_type": "text"
      },
      "source": [
        "<b>3. Pilsēta</b><br>\n",
        "Pilsētā ir zināms skaits iedzīvotāju <i>p0</i><br>\n",
        "Katru gadu nāk klāt procentuāls skaits <i>perc</i><br>\n",
        "Katru gadu nāk klāt(vai aizbrauc) arī zināms skaits <i>delta</i><br>\n",
        "Mums ir jāzina, kad(ja vispār) pilsēta sasniegs iedzīvotāju skaitu <i>p</i><br><br>\n",
        "Uzrakstiet funkciju <i>get_city_year(p0, perc, delta, p)</i>, kas atgriež gadus (pilnus), kad <i>p</i> tiks sasniegts.<br>\n",
        "Ja <i>p</i> nevar sasniegt, tad atgriežam -1<br><br>\n",
        "Piemērs:<br>\n",
        "<i>get_city_year(1000,2,50,1200) -> 3<br>\n",
        "1000 + 1000 * 0.02 + 50 => 1070 pēc 1.gada<br>\n",
        "1070 + 1070 * 0.02 + 50 => 1141 pēc 2.gada<br>\n",
        "1141 + 1141 * 0.02 + 50 => 1213 pēc 3.gada</i><br><br>\n",
        "PS. Ievērojam, ka padodam perc kā procentu kas jāpārvērš decimāl skaitlī.<br>\n",
        "Pārbaudam, vai strādā ar sekojošiem parametriem:\n",
        "<li>get_city_year(1000, 2, -50, 5000) -> -1 <i># samērā aktuāla problēma</i>\n",
        "<li>get_city_year(1500, 5, 100, 5000) -> 15\n",
        "<li>get_city_year(1500000, 2.5, 10000, 2000000) -> 10"
      ]
    },
    {
      "cell_type": "code",
      "metadata": {
        "id": "i3kZW88EUNvG",
        "colab_type": "code",
        "colab": {
          "base_uri": "https://localhost:8080/",
          "height": 68
        },
        "outputId": "c9bb9025-c3f5-4d97-bda9-97c733081f6a"
      },
      "source": [
        "def get_city_year(p0, perc, delta, p):\n",
        "    years = 0\n",
        "    while p0 < p and years <= 10_000:\n",
        "        p0 += p0 * perc/100 + delta\n",
        "        years += 1        \n",
        "\n",
        "    if years >= 10_000:\n",
        "        years = -1\n",
        "    \n",
        "    return years\n",
        "\n",
        "print(f'get_city_year(1000, 2, -50, 5000) -> {get_city_year(1000, 2, -50, 5000)}')\n",
        "print(f'get_city_year(1500, 5, 100, 5000) -> {get_city_year(1500, 5, 100, 5000)}')\n",
        "print(f'get_city_year(1500000, 2.5, 10000, 2000000) -> {get_city_year(1500000, 2.5, 10000, 2000000)}')"
      ],
      "execution_count": 69,
      "outputs": [
        {
          "output_type": "stream",
          "text": [
            "get_city_year(1000, 2, -50, 5000) -> -1\n",
            "get_city_year(1500, 5, 100, 5000) -> 15\n",
            "get_city_year(1500000, 2.5, 10000, 2000000) -> 10\n"
          ],
          "name": "stdout"
        }
      ]
    }
  ]
}