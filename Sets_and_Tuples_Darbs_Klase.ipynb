{
  "nbformat": 4,
  "nbformat_minor": 0,
  "metadata": {
    "colab": {
      "name": "Sets and Tuples - Darbs Klase.ipynb",
      "provenance": [],
      "collapsed_sections": [],
      "authorship_tag": "ABX9TyOTllQFQgvZN14EsPWCg4Md",
      "include_colab_link": true
    },
    "kernelspec": {
      "name": "python3",
      "display_name": "Python 3"
    }
  },
  "cells": [
    {
      "cell_type": "markdown",
      "metadata": {
        "id": "view-in-github",
        "colab_type": "text"
      },
      "source": [
        "<a href=\"https://colab.research.google.com/github/Narusi/Python-Kurss/blob/master/Sets_and_Tuples_Darbs_Klase.ipynb\" target=\"_parent\"><img src=\"https://colab.research.google.com/assets/colab-badge.svg\" alt=\"Open In Colab\"/></a>"
      ]
    },
    {
      "cell_type": "markdown",
      "metadata": {
        "id": "pa13LoejK18h",
        "colab_type": "text"
      },
      "source": [
        "#1. Min, Avg, Max\n",
        "\n",
        "Uzrakstiet funkciju get_min_avg_max(sequence), kas atgriež tuple ar trīs vērtībām attiecīgi mazāko, aritmētisko vidējo un lielāko vērtību no virknes.\n",
        "```\n",
        "# get_min_avg_max([0,10,1,9]) -> (0,5,10)\n",
        "```\n",
        "ienākošā sequence var būt tuple vai list ar skaitliskām vērtībām. \n",
        "##1b tiem, kas pieredzējušāki\n",
        "Uzrakstiet funkciju get_min_med_max(sequence), kas atgriež tuple ar trīs vērtībām attiecīgi mazāko, medianu un lielāko vērtību no virknes. <br>\n",
        "Median vērtība ir vērtiba, kas sakartotā virknē ir paša vidū. Ja virknes skaits ir pāra tad vidū ir divas vērtības.<br>\n",
        "No vidus vērtībām tad ņem vidējo.\n",
        "```\n",
        "# get_min_med_max([1,5,8,4,3]) -> (1,4,8)\n",
        "# get_min_med_max([2,2,9,9,4,3]) -> (2,3.5,9)\n",
        "# get_min_med_max(\"baaac\") -> ('a','a','c')\n",
        "```\n",
        " \\# <i>ar string var būt interesanti rezultāti pie pāra skaita ņemot vidējo, tāpēc labak dot abus vidējos</i>\n",
        "```\n",
        "# get_min_med_max(\"faaacb\") -> ('a', 'ab', 'f') \n",
        "```\n",
        "ienākošā sequence var būt tuple vai list ar vienāda tipa vērtībām, vai pat string."
      ]
    },
    {
      "cell_type": "code",
      "metadata": {
        "id": "EPmOaAGnSZnA",
        "colab_type": "code",
        "colab": {
          "base_uri": "https://localhost:8080/",
          "height": 34
        },
        "outputId": "0a896e74-5318-4f6f-bfb4-4ddcefb937d9"
      },
      "source": [
        "def get_min_avg_max(sequence):\n",
        "    if type(sequence) != list:\n",
        "        seqList = sorted(list(sequence))\n",
        "    else:    \n",
        "        seqList = sorted(sequence)\n",
        "    \n",
        "    return seqList[0], sum(seqList)/len(seqList), seqList[-1]\n",
        "\n",
        "get_min_avg_max([0,10,1,9])"
      ],
      "execution_count": 34,
      "outputs": [
        {
          "output_type": "execute_result",
          "data": {
            "text/plain": [
              "(0, 5.0, 10)"
            ]
          },
          "metadata": {
            "tags": []
          },
          "execution_count": 34
        }
      ]
    },
    {
      "cell_type": "code",
      "metadata": {
        "id": "06Lj_kfpU0Z2",
        "colab_type": "code",
        "colab": {
          "base_uri": "https://localhost:8080/",
          "height": 85
        },
        "outputId": "20fa6616-a0d5-449f-86ce-cc265431d0f4"
      },
      "source": [
        "def get_min_med_max(sequence):\n",
        "    if type(sequence) != list:\n",
        "        seqList = list(sequence)\n",
        "        seqList = sorted(seqList)\n",
        "    else:\n",
        "        seqList = sorted(sequence)\n",
        "    \n",
        "    if type(seqList[int(len(seqList)/2)]) == str:\n",
        "        if len(seqList) % 2 == 0:\n",
        "            seqMed = seqList[int(len(seqList)/2)] + seqList[int(len(seqList)/2)+1]\n",
        "        else:\n",
        "            seqMed = seqList[int(len(seqList)/2)]\n",
        "        \n",
        "    elif type(seqList[int(len(seqList)/2)]) == int or type(seqList[int(len(seqList)/2)]) == float:        \n",
        "        if len(seqList) % 2 == 0:\n",
        "            seqMed = (seqList[int(len(seqList)/2-0.5)]+seqList[int(len(seqList)/2+0.5)])/2\n",
        "        else:            \n",
        "            seqMed = seqList[int(len(seqList)/2)]\n",
        "    \n",
        "    return seqList[0], seqMed, seqList[-1]\n",
        "\n",
        "print(get_min_med_max([1,5,8,4,3]))# -> (1,4,8)\n",
        "print(get_min_med_max([2,2,9,9,4,3]))# -> (2,3.5,9)\n",
        "print(get_min_med_max(\"baaac\"))# -> ('a','a','c')\n",
        "print(get_min_med_max(\"faaacb\"))# -> ('a', 'ab', 'f')"
      ],
      "execution_count": 39,
      "outputs": [
        {
          "output_type": "stream",
          "text": [
            "(1, 4, 8)\n",
            "(2, 3.5, 9)\n",
            "('a', 'a', 'c')\n",
            "('a', 'bc', 'f')\n"
          ],
          "name": "stdout"
        }
      ]
    },
    {
      "cell_type": "markdown",
      "metadata": {
        "colab_type": "text",
        "id": "sIoR5pz9LO9o"
      },
      "source": [
        "# 2. Kopējie Elementi\n",
        "\n",
        "Uzrakstiet funkciju,kas atgriež tuple ar kopējiem elementiem trijās virknēs. Virknes var būt list,tuple,string.\n",
        "```\n",
        "#get_common_elements(seq1,seq2,seq3)\n",
        "#get_common_elements(\"abc\",['a','b'],('b','c')) -> ('b',) # tuple are vienu element šim elementam seko komats\n",
        "```\n",
        "\\# atceramies, ka mēs varam pārveidot virknes uz set ar set(virkne), un set uz tuple ar tuple(myset)\n",
        "\n",
        "<i>PS Tiem, kas nav pirmo reizi ar pīpi uz jumta, padomāsim, vai varam uztaisīt funkciju, kas spēj apstrādat patvalīgu skaitu virkņu.</i>"
      ]
    },
    {
      "cell_type": "code",
      "metadata": {
        "id": "iDr9m3fPSbC3",
        "colab_type": "code",
        "colab": {
          "base_uri": "https://localhost:8080/",
          "height": 51
        },
        "outputId": "c627f58f-d1a3-49db-c9e7-15d190fe5fa7"
      },
      "source": [
        "def get_common_elements(*arg):\n",
        "    args = locals()\n",
        "    cElements = []    \n",
        "    allElements = []\n",
        "\n",
        "    for items in list(args.values()):\n",
        "        for item in items:\n",
        "            if type(item) == str: item = item.lower().strip().replace(\" \",\"\");    \n",
        "            if len(item) > 1:\n",
        "                for it in item:\n",
        "                    if type(it) == str: it = it.lower().strip().replace(\" \",\"\");    \n",
        "                    if len(it) > 1:\n",
        "                        for i in it:\n",
        "                            if type(i) == str: i = i.lower().strip().replace(\" \",\"\");\n",
        "                            allElements.append(i)\n",
        "                    else:\n",
        "                        allElements.append(it)\n",
        "            else:\n",
        "                allElements.append(item)\n",
        "    allEleSet = set(allElements)\n",
        "    \n",
        "    for elmnt in allEleSet:\n",
        "        elCount = 0\n",
        "        for sequence in args['arg']:\n",
        "            if type(elmnt) == str:\n",
        "                if elmnt.upper() in sequence or elmnt.lower() in sequence: \n",
        "                    elCount += 1;\n",
        "            else:\n",
        "                if elmnt in sequence: elCount += 1;\n",
        "        \n",
        "        if elCount == len(args['arg']):\n",
        "            cElements.append(elmnt)\n",
        "\n",
        "    return set(cElements)\n",
        "\n",
        "print(get_common_elements(\"abc\",['a','b'],('b','c')))\n",
        "print(get_common_elements(\"abcxcuyio\",['a','b','o'],('b','c','O'),'lovely beaber',['B','a','l','o','O','n','!']))"
      ],
      "execution_count": 101,
      "outputs": [
        {
          "output_type": "stream",
          "text": [
            "{'b'}\n",
            "{'b', 'o'}\n"
          ],
          "name": "stdout"
        }
      ]
    },
    {
      "cell_type": "markdown",
      "metadata": {
        "id": "ufOVqsgHLHU6",
        "colab_type": "text"
      },
      "source": [
        "#3. Vai ir pangramma?\n",
        "\n",
        "uzrakstīt funkciju is_pangram, kas atgriež True, kad mytext parametrs satur visus burtus kas padoti a alfabetā.\n",
        "\n",
        "Savadāk atgriežam False.\n",
        "\n",
        "pangramma - teikums,vārdu virkne, kas satur visus alfabeta burtus - https://en.wikipedia.org/wiki/Pangram\n",
        "\n",
        "Atstarpes ignorējam,un uzskatam ka lielais burts ir tikpat derīgs kā mazais, t.i. šeit A un a -> a\n",
        "```\n",
        "#def is_pangram(mytext, a='abcdefghijklmnopqrstuvwxyz'):\n",
        "#    '''\n",
        "#    '''\n",
        "#    return None # here it should return True or False\n",
        "#\n",
        "#is_pangram(\"abcd foo\") == False\n",
        "#is_pangram(\"The quick brown fox jumps over the lazy dog\") == True\n",
        "#is_pangram(\"The five boxing wizards jump quickly\") == True #ieverojam lielais T šeit\n",
        "```\n",
        "PS. ar šo funkciju tad mēs varēsim pārbaudīt arī latviešu vai citu valodu pangramas, padodot a parametrā attiecīgā alfabēta burtus."
      ]
    },
    {
      "cell_type": "code",
      "metadata": {
        "id": "gs2HYtCBKxm5",
        "colab_type": "code",
        "colab": {
          "base_uri": "https://localhost:8080/",
          "height": 68
        },
        "outputId": "c3a1dfd5-c007-4d64-f264-6f7bdaaf8602"
      },
      "source": [
        "def is_pangram(mytext, a='abcdefghijklmnopqrstuvwxyz'):\n",
        "    return set(a) == set(mytext.replace(\" \",\"\").lower())\n",
        "\n",
        "print(is_pangram(\"abcd foo\"))\n",
        "print(is_pangram(\"The quick brown fox jumps over the lazy dog\"))\n",
        "print(is_pangram(\"The five boxing wizards jump quickly\"))"
      ],
      "execution_count": 115,
      "outputs": [
        {
          "output_type": "stream",
          "text": [
            "False\n",
            "True\n",
            "True\n"
          ],
          "name": "stdout"
        }
      ]
    }
  ]
}