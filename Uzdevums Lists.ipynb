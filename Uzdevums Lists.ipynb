{
 "cells": [
  {
   "cell_type": "markdown",
   "metadata": {},
   "source": [
    "# Klases Uzdevumi - Lists"
   ]
  },
  {
   "cell_type": "markdown",
   "metadata": {},
   "source": [
    "## 1.a Vidējā vērtība"
   ]
  },
  {
   "cell_type": "markdown",
   "metadata": {},
   "source": [
    "Uzrakstīt programmu, kas liek lietotājam ievadīt skaitļus(float).\n",
    "Programma pēc katra ievada rāda visu ievadīto skaitļu vidējo vērtību.\n",
    "PS. 1a var iztikt bez lists\n",
    "\n",
    "1.b Programma rāda gan skaitļu vidējo vērtību, gan VISUS ievadītos skaitļus\n",
    "PS Iziešana no programmas ir ievadot \"q\"\n",
    "\n",
    "1.c Programma nerāda visus ievadītos skaitļus bet gan tikai TOP3 un BOTTOM3 un protams joprojām vidējo."
   ]
  },
  {
   "cell_type": "code",
   "execution_count": 2,
   "metadata": {
    "scrolled": true
   },
   "outputs": [
    {
     "name": "stdout",
     "output_type": "stream",
     "text": [
      "\n",
      "Ievadiet skaitli: 11\n",
      "Vidējā vērtība: 11.0\n",
      "Visi ievadītie skaitļi: [11.0]\n",
      "Pēdējais ievadītais skaitlis: 11.0\n",
      "\n",
      "Ievadiet skaitli: 55\n",
      "Vidējā vērtība: 33.0\n",
      "Visi ievadītie skaitļi: [11.0, 55.0]\n",
      "Pēdējais ievadītais skaitlis: 55.0\n",
      "\n",
      "Ievadiet skaitli: 33\n",
      "Vidējā vērtība: 33.0\n",
      "Visi ievadītie skaitļi: [11.0, 33.0, 55.0]\n",
      "Pēdējais ievadītais skaitlis: 33.0\n",
      "\n",
      "Ievadiet skaitli: 45\n",
      "Vidējā vērtība: 36.0\n",
      "Visi ievadītie skaitļi: [11.0, 33.0, 45.0, 55.0]\n",
      "Pēdējais ievadītais skaitlis: 45.0\n",
      "\n",
      "Ievadiet skaitli: 0,99\n",
      "Vidējā vērtība: 28.998\n",
      "Visi ievadītie skaitļi: [0.99, 11.0, 33.0, 45.0, 55.0]\n",
      "Pēdējais ievadītais skaitlis: 0.99\n",
      "\n",
      "Ievadiet skaitli: 0,01\n",
      "Vidējā vērtība: 24.166666666666668\n",
      "Visi ievadītie skaitļi: [0.01, 0.99, 11.0, 33.0, 45.0, 55.0]\n",
      "TOP3 un BOTTOM3: [0.01, 0.99, 11.0, 33.0, 45.0, 55.0]\n",
      "Pēdējais ievadītais skaitlis: 0.01\n",
      "\n",
      "Ievadiet skaitli: 2560\n",
      "Vidējā vērtība: 386.42857142857144\n",
      "Visi ievadītie skaitļi: [0.01, 0.99, 11.0, 33.0, 45.0, 55.0, 2560.0]\n",
      "TOP3 un BOTTOM3: [0.01, 0.99, 11.0, 45.0, 55.0, 2560.0]\n",
      "Pēdējais ievadītais skaitlis: 2560.0\n",
      "\n",
      "Ievadiet skaitli: 125\n",
      "Vidējā vērtība: 353.75\n",
      "Visi ievadītie skaitļi: [0.01, 0.99, 11.0, 33.0, 45.0, 55.0, 125.0, 2560.0]\n",
      "TOP3 un BOTTOM3: [0.01, 0.99, 11.0, 55.0, 125.0, 2560.0]\n",
      "Pēdējais ievadītais skaitlis: 125.0\n",
      "\n",
      "Ievadiet skaitli: 777\n",
      "Vidējā vērtība: 400.77777777777777\n",
      "Visi ievadītie skaitļi: [0.01, 0.99, 11.0, 33.0, 45.0, 55.0, 125.0, 777.0, 2560.0]\n",
      "TOP3 un BOTTOM3: [0.01, 0.99, 11.0, 125.0, 777.0, 2560.0]\n",
      "Pēdējais ievadītais skaitlis: 777.0\n",
      "\n",
      "Ievadiet skaitli: 3560\n",
      "Vidējā vērtība: 716.7\n",
      "Visi ievadītie skaitļi: [0.01, 0.99, 11.0, 33.0, 45.0, 55.0, 125.0, 777.0, 2560.0, 3560.0]\n",
      "TOP3 un BOTTOM3: [0.01, 0.99, 11.0, 777.0, 2560.0, 3560.0]\n",
      "Pēdējais ievadītais skaitlis: 3560.0\n",
      "\n",
      "Ievadiet skaitli: q\n"
     ]
    }
   ],
   "source": [
    "numbs = []\n",
    "while True:\n",
    "    numberStr = input(\"\\nIevadiet skaitli: \")\n",
    "\n",
    "    if \"q\" not in numberStr.lower():\n",
    "        if \",\" in numberStr:\n",
    "            numberStr = numberStr.replace(',','.').strip()\n",
    "\n",
    "        numbs.append(float(numberStr))\n",
    "        print(\"Vidējā vērtība:\",sum(numbs)/len(numbs))\n",
    "        numbs.sort()\n",
    "        print(\"Visi ievadītie skaitļi:\",numbs)\n",
    "        if len(numbs) >= 6:\n",
    "            print(\"TOP3 un BOTTOM3:\",numbs[:3] + numbs[-3:])\n",
    "                    \n",
    "        print(\"Pēdējais ievadītais skaitlis:\",float(numberStr))\n",
    "    else:        \n",
    "        break"
   ]
  },
  {
   "cell_type": "markdown",
   "metadata": {},
   "source": [
    "## 2. Kubu tabula"
   ]
  },
  {
   "cell_type": "markdown",
   "metadata": {},
   "source": [
    "Lietotājs ievada sākumu (veselu skaitli) un beigu skaitli.\n",
    "Izvads ir ievadītie skaitļi un to kubi\n",
    "<br>Piemēram: ievads 2 un 5 (divi ievadi)\n",
    "<br>Izvads \n",
    "<br>2 kubā: 8\n",
    "<br>3 kubā: 27\n",
    "<br>4 kubā: 64\n",
    "<br>5 kubā: 125\n",
    "<br>Visi kubi: [8,27,64,125]\n",
    "<br><br>PS teoretiski varētu iztikt bez list, bet ar list būs ērtāk"
   ]
  },
  {
   "cell_type": "code",
   "execution_count": 1,
   "metadata": {},
   "outputs": [
    {
     "name": "stdout",
     "output_type": "stream",
     "text": [
      "Ievadiet sākotnējo skaitli: 2\n",
      "Ievadiet noslēdzošo skaitli: 12\n",
      "2 kubā: 8\n",
      "3 kubā: 27\n",
      "4 kubā: 64\n",
      "5 kubā: 125\n",
      "6 kubā: 216\n",
      "7 kubā: 343\n",
      "8 kubā: 512\n",
      "9 kubā: 729\n",
      "10 kubā: 1000\n",
      "11 kubā: 1331\n",
      "12 kubā: 1728\n",
      "Visi kubi: [8, 27, 64, 125, 216, 343, 512, 729, 1000, 1331, 1728]\n"
     ]
    }
   ],
   "source": [
    "pirmaisSk = int(input(\"Ievadiet sākotnējo skaitli: \"))\n",
    "otraisSk = int(input(\"Ievadiet noslēdzošo skaitli: \"))\n",
    "kubi = []\n",
    "\n",
    "for i in range(pirmaisSk, otraisSk+1):\n",
    "    print(\"{} kubā: {}\".format(i, i**3))\n",
    "    kubi.append(i**3)\n",
    "print('Visi kubi:', kubi)"
   ]
  },
  {
   "cell_type": "markdown",
   "metadata": {},
   "source": [
    "## 3. Apgrieztie vārdi"
   ]
  },
  {
   "cell_type": "markdown",
   "metadata": {},
   "source": [
    "Lietotājs ievada teikumu. \n",
    "Izvadam visus teikuma vārdus apgrieztā formā. \n",
    "<br>Alus kauss -> Sula ssuak\n",
    "<br>PS Te varētu noderēt split un join operācijas."
   ]
  },
  {
   "cell_type": "code",
   "execution_count": 3,
   "metadata": {},
   "outputs": [
    {
     "name": "stdout",
     "output_type": "stream",
     "text": [
      "Ievadiet teikumu: Es necietu sakāvi. Es vienkārši atradu 10 000 veidus, kas nestrādā!\n",
      "Se uteicen ivākas. Se išrākneiv udarta 01 000 ,sudiev sak ādārtsen!\n"
     ]
    }
   ],
   "source": [
    "teikums = input(\"Ievadiet teikumu: \")\n",
    "smukiet = []\n",
    "jaunsTeik = True\n",
    "\n",
    "for vards in teikums.split(\" \"):\n",
    "    if \".\" in vards:\n",
    "        smukiet.append(vards[:-1][::-1].lower()+\".\")\n",
    "        jaunsTeik = True        \n",
    "    elif \"!\" in vards:\n",
    "        smukiet.append(vards[:-1][::-1].lower()+\"!\")\n",
    "        jaunsTeik = True        \n",
    "    elif \"?\" in vards:\n",
    "        smukiet.append(vards[:-1][::-1].lower()+\"?\")\n",
    "        jaunsTeik = True\n",
    "    else:\n",
    "        if jaunsTeik:\n",
    "            smukiet.append(vards[::-1].title())\n",
    "            jaunsTeik = False\n",
    "        else:\n",
    "            smukiet.append(vards[::-1].lower())\n",
    "print(\" \".join(smukiet))"
   ]
  },
  {
   "cell_type": "markdown",
   "metadata": {},
   "source": [
    "## 4. Pirmskaitļi"
   ]
  },
  {
   "cell_type": "markdown",
   "metadata": {},
   "source": [
    "šis varētu būt nedēļas nogales uzdevums, klasē diez vai pietiks laika\n",
    "Atrodiet un izvadiet pirmos 20 (vēl labāk iespēja izvēlēties cik pirmos pirmskaitļus gribam) pirmskaitļus saraksta veidā t.i. [2,3,5,7,11,...]"
   ]
  },
  {
   "cell_type": "code",
   "execution_count": 5,
   "metadata": {},
   "outputs": [
    {
     "name": "stdout",
     "output_type": "stream",
     "text": [
      "Ieavadiet pirmskaitļu skaitu: 23\n",
      "[1, 2, 3, 5, 7, 11, 13, 17, 19, 23, 29, 31, 37, 41, 43, 47, 53, 59, 61, 67, 71, 73, 79, 83]\n"
     ]
    }
   ],
   "source": [
    "numbCount = int(input(\"Ieavadiet pirmskaitļu skaitu: \"))\n",
    "nCount = 2\n",
    "numb = 3\n",
    "pirmsskaitli = [1, 2]\n",
    "\n",
    "while nCount <= numbCount:\n",
    "    irPSkaitlis = True\n",
    "    \n",
    "    for i in range(2,numb):\n",
    "        if numb % i == 0:\n",
    "            irPSkaitlis = False\n",
    "    \n",
    "    if irPSkaitlis:\n",
    "        nCount += 1\n",
    "        pirmsskaitli.append(numb)\n",
    "    \n",
    "    numb += 1\n",
    "\n",
    "print(pirmsskaitli)"
   ]
  },
  {
   "cell_type": "code",
   "execution_count": null,
   "metadata": {},
   "outputs": [],
   "source": []
  }
 ],
 "metadata": {
  "kernelspec": {
   "display_name": "Python 3",
   "language": "python",
   "name": "python3"
  },
  "language_info": {
   "codemirror_mode": {
    "name": "ipython",
    "version": 3
   },
   "file_extension": ".py",
   "mimetype": "text/x-python",
   "name": "python",
   "nbconvert_exporter": "python",
   "pygments_lexer": "ipython3",
   "version": "3.8.3"
  }
 },
 "nbformat": 4,
 "nbformat_minor": 4
}
