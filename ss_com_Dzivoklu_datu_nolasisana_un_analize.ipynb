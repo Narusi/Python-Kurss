{
  "nbformat": 4,
  "nbformat_minor": 0,
  "metadata": {
    "kernelspec": {
      "display_name": "Python 3",
      "language": "python",
      "name": "python3"
    },
    "language_info": {
      "codemirror_mode": {
        "name": "ipython",
        "version": 3
      },
      "file_extension": ".py",
      "mimetype": "text/x-python",
      "name": "python",
      "nbconvert_exporter": "python",
      "pygments_lexer": "ipython3",
      "version": "3.8.3"
    },
    "colab": {
      "name": "ss.com Dzīvokļu datu nolasīšana.ipynb",
      "provenance": [],
      "toc_visible": true,
      "include_colab_link": true
    }
  },
  "cells": [
    {
      "cell_type": "markdown",
      "metadata": {
        "id": "view-in-github",
        "colab_type": "text"
      },
      "source": [
        "<a href=\"https://colab.research.google.com/github/Narusi/Python-Kurss/blob/master/ss_com_Dzivoklu_datu_nolasisana_un_analize.ipynb\" target=\"_parent\"><img src=\"https://colab.research.google.com/assets/colab-badge.svg\" alt=\"Open In Colab\"/></a>"
      ]
    },
    {
      "cell_type": "markdown",
      "metadata": {
        "id": "wMf82m2djMZR"
      },
      "source": [
        "# ss.com datu ielase un analīze"
      ]
    },
    {
      "cell_type": "markdown",
      "metadata": {
        "id": "DltuHXDtjMZZ"
      },
      "source": [
        "## Moduļu imports"
      ]
    },
    {
      "cell_type": "code",
      "metadata": {
        "id": "1cXkYK00jMZf",
        "outputId": "c04719da-1569-4f51-a9bc-99bea2c4d91a",
        "colab": {
          "base_uri": "https://localhost:8080/",
          "height": 85
        }
      },
      "source": [
        "#Private module\n",
        "import ssWebScraper as sws\n",
        "\n",
        "#Public packages\n",
        "import matplotlib.pyplot as plt\n",
        "import seaborn as sn\n",
        "import plotly.express as px\n",
        "\n",
        "import pandas as pd\n",
        "import numpy as np\n",
        "\n",
        "from sklearn.decomposition import PCA\n",
        "from sklearn import preprocessing\n",
        "from sklearn.linear_model import LinearRegression\n",
        "import statsmodels.api as sm\n",
        "from sklearn import neighbors"
      ],
      "execution_count": 1,
      "outputs": [
        {
          "output_type": "stream",
          "text": [
            "/usr/local/lib/python3.6/dist-packages/statsmodels/tools/_testing.py:19: FutureWarning:\n",
            "\n",
            "pandas.util.testing is deprecated. Use the functions in the public API at pandas.testing instead.\n",
            "\n"
          ],
          "name": "stderr"
        }
      ]
    },
    {
      "cell_type": "markdown",
      "metadata": {
        "id": "eWLzvnTnjMZ8"
      },
      "source": [
        "## Datu ielāde"
      ]
    },
    {
      "cell_type": "code",
      "metadata": {
        "scrolled": true,
        "id": "bhdKY1fWjMZ_",
        "outputId": "cce8a3c2-7f19-4ecb-97ae-f40400653847",
        "colab": {
          "base_uri": "https://localhost:8080/",
          "height": 136
        }
      },
      "source": [
        "districts = sws.gatherSubCats(initialLink='https://www.ss.com/en/real-estate/flats/riga/')\n",
        "ipasumi = sws.readPostList(districts, page_n=60, verbose=True)"
      ],
      "execution_count": null,
      "outputs": [
        {
          "output_type": "stream",
          "text": [
            "Processing Centre\n",
            "Processing Agenskalns\n",
            "Processing Aplokciems\n",
            "Processing Beberbeki\n",
            "Processing Bergi\n",
            "Processing Bierini\n",
            "Processing Bolderaya\n"
          ],
          "name": "stdout"
        }
      ]
    },
    {
      "cell_type": "code",
      "metadata": {
        "id": "18dC24HkjMaf"
      },
      "source": [
        "ipasumi.info()"
      ],
      "execution_count": null,
      "outputs": []
    },
    {
      "cell_type": "markdown",
      "metadata": {
        "id": "oWTs2TRVjMaz"
      },
      "source": [
        "### Datu glabāšana"
      ]
    },
    {
      "cell_type": "code",
      "metadata": {
        "id": "nSn9zM_DjMa3"
      },
      "source": [
        "ipasumi = sws.saveToDB(ipasumi, tableName='PropertiesRAW',  \n",
        "                       uniqCols = ['District','Street Name','Street No.', 'Rooms', \n",
        "                                   'Size','Floor', 'Max. Floor', 'Project'])"
      ],
      "execution_count": null,
      "outputs": []
    },
    {
      "cell_type": "code",
      "metadata": {
        "id": "khgka0ZxjMbJ"
      },
      "source": [
        "ipasumi = sws.loadFromDB(tableName='PropertiesRAW', dbName = 'miniSS.db')\n",
        "ipasumi.head(5)"
      ],
      "execution_count": null,
      "outputs": []
    },
    {
      "cell_type": "markdown",
      "metadata": {
        "id": "_sxo31BljMbY"
      },
      "source": [
        "## Datu attīrīšana"
      ]
    },
    {
      "cell_type": "code",
      "metadata": {
        "id": "ey6zYO2ljMbc"
      },
      "source": [
        "ipasumi.info()"
      ],
      "execution_count": null,
      "outputs": []
    },
    {
      "cell_type": "code",
      "metadata": {
        "scrolled": false,
        "id": "Wcan00kajMbv"
      },
      "source": [
        "print('Pirms tīrīšanas')\n",
        "ipasumi[['Price of sqm','Alt. Price of sqm']].hist(figsize=(16,4))\n",
        "plt.show();\n",
        "\n",
        "altPrInex = ipasumi['Alt. Price of sqm'] >= ipasumi['Price of sqm'].max()\n",
        "ipasumi.loc[altPrInex, 'Alt. Price of sqm'] = ipasumi.loc[altPrInex, 'Price of sqm']\n",
        "\n",
        "#cleanDF = ipasumi.loc[ipasumi['Alt. Price of sqm'] <= ipasumi['Price of sqm'].max()]\n",
        "cleanDF = ipasumi.copy()\n",
        "cleanDF = cleanDF.loc[cleanDF['Size'] <= 1000]\n",
        "cleanDF = cleanDF.loc[cleanDF['Floor'] <= cleanDF['Max. Floor']]\n",
        "\n",
        "print('Pēc tīrīšanas')\n",
        "cleanDF[['Price of sqm','Alt. Price of sqm']].hist(figsize=(16,4))\n",
        "plt.show();"
      ],
      "execution_count": null,
      "outputs": []
    },
    {
      "cell_type": "code",
      "metadata": {
        "id": "EX0Cdm1BjMcC"
      },
      "source": [
        "cleanDF['AVG_Price_SQM'] = 0.0\n",
        "\n",
        "attrNames = ['District','Project','Max. Floor','Street Name']\n",
        "for r in cleanDF.index:\n",
        "    perfMatch = cleanDF.copy()\n",
        "    for i in range(4):\n",
        "        attrValue = cleanDF.loc[r, attrNames[i]]\n",
        "        perfMatch = perfMatch.loc[perfMatch[attrNames[i]] == attrValue, :]\n",
        "        \n",
        "        if perfMatch.count().min() <= 10: break;\n",
        "    \n",
        "    cleanDF.loc[r, 'AVG_Price_SQM'] = perfMatch.drop(r, axis=0).loc[:,'Alt. Price of sqm'].mean()    "
      ],
      "execution_count": null,
      "outputs": []
    },
    {
      "cell_type": "code",
      "metadata": {
        "id": "35Vc7_HsjMcT"
      },
      "source": [
        "cleanDF['Project_AVG'] = 0.0\n",
        "cleanDF['District_AVG'] = 0.0\n",
        "\n",
        "cleanDF['Project_AVG'] = cleanDF.groupby('Project')['Alt. Price of sqm'].transform(np.mean)\n",
        "cleanDF['District_AVG'] = cleanDF.groupby('District')['Alt. Price of sqm'].transform(np.mean)\n",
        "\n",
        "cleanDF.info()"
      ],
      "execution_count": null,
      "outputs": []
    },
    {
      "cell_type": "code",
      "metadata": {
        "scrolled": true,
        "id": "uakvM2vWjMcj"
      },
      "source": [
        "\n",
        "for c in cleanDF.describe().columns:\n",
        "    for row in cleanDF.index:\n",
        "        similarDF = cleanDF.loc[np.logical_and(cleanDF['District'] == cleanDF.loc[row,'District'],\n",
        "                                               cleanDF['Project']== cleanDF.loc[row,'Project'])]\n",
        "        similarDF = similarDF[similarDF['Deal Type'] == cleanDF.loc[row,'Deal Type']]\n",
        "        \n",
        "        avg = similarDF[c].mean()\n",
        "        std = similarDF[c].std()        \n",
        "        \n",
        "        if similarDF[c].count() > 3 and c not in ['Rooms','Size','Floor','Max. Floor']:\n",
        "            if abs(cleanDF.loc[row,c] - avg) > 10 * std:\n",
        "                if cleanDF.loc[row,c] > maxim: print('Bigger than 99th percentile');\n",
        "                if abs(cleanDF.loc[row,c] - avg) > 10 * std: print('Further than 10 standard deviations from mean');\n",
        "\n",
        "                print(c)\n",
        "                print(cleanDF.loc[row])\n",
        "                if similarDF.loc[similarDF['Street Name'] == cleanDF.loc[row,'Street Name'], c].count() > 3:\n",
        "                    cleanDF.loc[row,c] = similarDF.loc[similarDF['Street Name'] == cleanDF.loc[row,'Street Name'], c].mean()\n",
        "                else:\n",
        "                    cleanDF.loc[row,c] = avg\n",
        "        else:\n",
        "            if c == 'Rooms' and cleanDF.loc[row,c] > 10: cleanDF = cleanDF.drop(row, axis=0);\n",
        "            if c == 'Floor' and cleanDF.loc[row,c] > 100: cleanDF = cleanDF.drop(row, axis=0);\n",
        "            if c == 'Max. Floor' and cleanDF.loc[row,c] > 100: cleanDF = cleanDF.drop(row, axis=0);\n",
        "            if c == 'Price of sqm' and cleanDF.loc[row,c] > abs(cleanDF.loc[row,c] - avg) > 2 * std: \n",
        "                cleanDF = cleanDF.drop(row, axis=0);\n",
        "                continue\n",
        "            if c == 'Alt. Price of sqm' and cleanDF.loc[row,c] > 100: \n",
        "                cleanDF = cleanDF.drop(row, axis=0);\n",
        "                continue\n",
        "            if c == 'Total Price' and cleanDF.loc[row,c] > 100: \n",
        "                cleanDF = cleanDF.drop(row, axis=0);\n",
        "                continue\n",
        "            if c == 'Alt. Price' and cleanDF.loc[row,c] > 100: \n",
        "                cleanDF = cleanDF.drop(row, axis=0);\n",
        "                continue\n",
        "                \n",
        "            if cleanDF.loc[row,c]/cleanDF.loc[row,'Project_AVG'] > 5 or cleanDF.loc[row,c]/cleanDF.loc[row,'District_AVG'] > 5:\n",
        "                try:\n",
        "                    if cleanDF.loc[row,c] != np.nan:\n",
        "                        cleanDF.loc[row,c] = cleanDF.loc[row, 'AVG_Price_SQM']\n",
        "                    else:\n",
        "                        cleanDF.loc[row,c] = cleanDF.loc[row, ['Project_AVG','District_AVG']].mean()\n",
        "                except:\n",
        "                    cleanDF.loc[row,c] = cleanDF.loc[row, ['Project_AVG','District_AVG']].mean()\n",
        "            \n",
        "cleanDF = cleanDF.dropna()"
      ],
      "execution_count": null,
      "outputs": []
    },
    {
      "cell_type": "markdown",
      "metadata": {
        "id": "IN1mPvgcjMc4"
      },
      "source": [
        "## Datu analīze"
      ]
    },
    {
      "cell_type": "code",
      "metadata": {
        "id": "7JgK_v36jMc6"
      },
      "source": [
        "pd.plotting.scatter_matrix(cleanDF, figsize=(14,14))\n",
        "plt.show();"
      ],
      "execution_count": null,
      "outputs": []
    },
    {
      "cell_type": "code",
      "metadata": {
        "scrolled": false,
        "id": "4o0QNjw_jMdG"
      },
      "source": [
        "fig = px.bar(cleanDF.groupby('District')[['Alt. Price of sqm','AVG_Price_SQM']].mean(), barmode='group')\n",
        "fig.show();\n",
        "\n",
        "fig = px.bar(cleanDF.groupby('District')[['Alt. Price of sqm','AVG_Price_SQM']].std(), barmode='group')\n",
        "fig.show();\n",
        "\n",
        "fig = px.bar(cleanDF.groupby('District')[['Alt. Price of sqm']].count(), barmode='group')\n",
        "fig.show();"
      ],
      "execution_count": null,
      "outputs": []
    },
    {
      "cell_type": "code",
      "metadata": {
        "id": "egYhrpQNjMdc"
      },
      "source": [
        "fig = px.scatter(cleanDF.dropna(), x=\"District\", y =\"Rooms\", size=\"AVG_Price_SQM\", color=\"Project\", \n",
        "                 log_x=False, size_max=45)\n",
        "fig.show()"
      ],
      "execution_count": null,
      "outputs": []
    },
    {
      "cell_type": "code",
      "metadata": {
        "scrolled": true,
        "id": "LZHX-bYRjMdo"
      },
      "source": [
        "for proj in cleanDF.loc[:, 'Project'].drop_duplicates():\n",
        "    tempDF = cleanDF.loc[cleanDF['Project']==proj, :]\n",
        "    tempDF['ID'] = tempDF['Link'] + tempDF['Street No.']\n",
        "    \n",
        "    tempDF = tempDF.drop_duplicates('ID').pivot(index='ID', columns='District', values='Alt. Price of sqm')\n",
        "    \n",
        "    fig = px.box(tempDF, color='District', title=proj)\n",
        "    fig.show();\n"
      ],
      "execution_count": null,
      "outputs": []
    },
    {
      "cell_type": "code",
      "metadata": {
        "scrolled": false,
        "id": "TQQjpv8_jMd4"
      },
      "source": [
        "cleanDF[['District', 'Project', 'AVG_Price_SQM']].dropna().sort_values(by=['District','Project'])\n",
        "distN = cleanDF.groupby(['District'])['Size'].count().dropna()\n",
        "projN = cleanDF.groupby(['Project'])['Size'].count().dropna()\n",
        "\n",
        "presentDF = cleanDF.copy()\n",
        "for i in cleanDF['District'].drop_duplicates():\n",
        "    if i not in distN[distN>distN.quantile(0.25)].index:\n",
        "        presentDF = presentDF[presentDF['District'] != i]\n",
        "    \n",
        "for i in cleanDF['Project'].drop_duplicates():\n",
        "    if i not in projN[projN>projN.quantile(0.25)].index:\n",
        "        presentDF = presentDF[presentDF['Project'] != i]\n",
        "    \n",
        "for distr in presentDF['District'].drop_duplicates().sort_values():\n",
        "    fig = px.bar(presentDF.loc[presentDF['District'] == distr].groupby('Project')['AVG_Price_SQM'].mean(),\n",
        "                title = distr + ' vidējās kvm cenas pēc ēkas projekta')\n",
        "    fig.show();"
      ],
      "execution_count": null,
      "outputs": []
    },
    {
      "cell_type": "code",
      "metadata": {
        "id": "Osforg4EjMeC"
      },
      "source": [
        "presentDF[presentDF['Project']=='New'].groupby('District')['AVG_Price_SQM'].describe().round(2)"
      ],
      "execution_count": null,
      "outputs": []
    },
    {
      "cell_type": "markdown",
      "metadata": {
        "id": "0Es2gEl-jMeP"
      },
      "source": [
        "### Īres dati"
      ]
    },
    {
      "cell_type": "code",
      "metadata": {
        "scrolled": false,
        "id": "PI6B5cLCjMeR"
      },
      "source": [
        "cleanDF[cleanDF['Deal Type']=='SELL'].hist(figsize=(16,14))\n",
        "plt.show();            \n",
        "\n",
        "cleanDF[cleanDF['Deal Type']=='RENT'].describe()"
      ],
      "execution_count": null,
      "outputs": []
    },
    {
      "cell_type": "code",
      "metadata": {
        "scrolled": true,
        "id": "PhPfQAvwjMed"
      },
      "source": [
        "cleanDF['Relative_Floor'] = cleanDF['Floor'].sub(1)/cleanDF['Max. Floor']\n",
        "cleanDF.loc[cleanDF['Max. Floor'] == 1,'Relative_Floor'] = 1.\n",
        "\n",
        "for c in cleanDF.drop(['Deal Type','Comment','Link','Street Name','Street No.',\n",
        "                      'Alt. Price of sqm','Post Date','Price of sqm','Total Price',\n",
        "                      'Alt. Price'], axis=1).columns:\n",
        "    \n",
        "    if cleanDF[c].dtype == 'object' or c == 'Rooms':\n",
        "        fig = px.box(cleanDF[cleanDF['Deal Type']=='RENT'], x=c, y=\"Alt. Price of sqm\", points=\"all\", color=c)\n",
        "    elif c == 'Relative_Floor':\n",
        "        fig = px.histogram(cleanDF[cleanDF['Deal Type']=='RENT'], x=c, y=\"Alt. Price of sqm\", histfunc='avg')\n",
        "    else:\n",
        "        fig = px.scatter(cleanDF[cleanDF['Deal Type']=='RENT'], x=c, y=\"Alt. Price of sqm\", color=c)\n",
        "    fig.show()"
      ],
      "execution_count": null,
      "outputs": []
    },
    {
      "cell_type": "code",
      "metadata": {
        "scrolled": false,
        "id": "u1S-m7K8jMey"
      },
      "source": [
        "cleanDF[cleanDF['Deal Type']=='RENT'].describe().round(2)"
      ],
      "execution_count": null,
      "outputs": []
    },
    {
      "cell_type": "code",
      "metadata": {
        "scrolled": false,
        "id": "M5xoa6tijMe9"
      },
      "source": [
        "features = ['Rooms','Size', 'Project_AVG', 'District_AVG']\n",
        "fig = px.scatter_matrix(\n",
        "    cleanDF[cleanDF['Deal Type']=='RENT'],\n",
        "    dimensions=features + ['Alt. Price of sqm','Floor', 'Price of sqm'],\n",
        "    color='Project'\n",
        ")\n",
        "fig.update_traces(diagonal_visible=False)\n",
        "fig.show()"
      ],
      "execution_count": null,
      "outputs": []
    },
    {
      "cell_type": "code",
      "metadata": {
        "scrolled": false,
        "id": "ZXUG25MSjMfM"
      },
      "source": [
        "pca = PCA(n_components=4)\n",
        "\n",
        "data_scaled = cleanDF.loc[cleanDF['Deal Type']=='RENT',features+['Alt. Price of sqm']]\n",
        "\n",
        "components = pca.fit_transform(data_scaled.dropna())\n",
        "\n",
        "labels = {\n",
        "    str(i): f\"PC {i+1} ({var:.1f}%)\"\n",
        "    for i, var in enumerate(pca.explained_variance_ratio_ * 100)\n",
        "}\n",
        "\n",
        "pca_rent_results = pd.DataFrame(pca.components_, \n",
        "                                columns=data_scaled.columns,\n",
        "                                index = labels.values()).round(3)\n",
        "pca_rent_results"
      ],
      "execution_count": null,
      "outputs": []
    },
    {
      "cell_type": "code",
      "metadata": {
        "id": "cT0-3pbBjMfZ"
      },
      "source": [
        "fig = px.scatter_matrix(\n",
        "    components,\n",
        "    labels=labels,\n",
        "    dimensions=range(4),\n",
        "    color=cleanDF.loc[cleanDF['Deal Type']=='RENT','Project']\n",
        ")\n",
        "\n",
        "fig.update_traces(diagonal_visible=False)\n",
        "fig.show()"
      ],
      "execution_count": null,
      "outputs": []
    },
    {
      "cell_type": "code",
      "metadata": {
        "id": "C-yCJuKWjMfz"
      },
      "source": [
        "X = data_scaled.drop('Alt. Price of sqm', axis=1)\n",
        "y = cleanDF.loc[data_scaled.index, 'Price of sqm']\n",
        "\n",
        "linRegCorr = pd.DataFrame(index=X.columns)\n",
        "linRegCorr['Rent'] = 0.0\n",
        "for c in X.columns:\n",
        "    linRegCorr.loc[c, 'Rent'] = np.corrcoef(X[c],y)[1][0]\n",
        "    \n",
        "linRegCorr"
      ],
      "execution_count": null,
      "outputs": []
    },
    {
      "cell_type": "code",
      "metadata": {
        "id": "_xTLjZtUjMgC"
      },
      "source": [
        "reg = LinearRegression().fit(X, y)\n",
        "rent_coefficients = pd.Series(reg.coef_, index=X.columns)\n",
        "\n",
        "px.bar(rent_coefficients, title='Regresijas koeficienti').show()\n",
        "\n",
        "print('Score', reg.score(X, y))\n",
        "print('Intercept', reg.intercept_)"
      ],
      "execution_count": null,
      "outputs": []
    },
    {
      "cell_type": "code",
      "metadata": {
        "id": "_TOa-XU8jMgX"
      },
      "source": [
        "model = sm.OLS(y, X)\n",
        "results = model.fit()\n",
        "results.summary()"
      ],
      "execution_count": null,
      "outputs": []
    },
    {
      "cell_type": "code",
      "metadata": {
        "id": "Ss_fsND6jMg2"
      },
      "source": [
        "knn = neighbors.KNeighborsRegressor(n_neighbors=10, weights='distance')\n",
        "knn_model = knn.fit(X[:2*int(len(y)/3)], y[:2*int(len(y)/3)])\n",
        "knn_model.score(X[int(len(y)/3):], y[int(len(y)/3):])"
      ],
      "execution_count": null,
      "outputs": []
    },
    {
      "cell_type": "markdown",
      "metadata": {
        "id": "gNlO4zltjMhD"
      },
      "source": [
        "### Pārdošanas darījumi"
      ]
    },
    {
      "cell_type": "code",
      "metadata": {
        "scrolled": false,
        "id": "tjwhuzlkjMhF"
      },
      "source": [
        "cleanDF[cleanDF['Deal Type']=='SELL'].hist(figsize=(16,14))\n",
        "plt.show();\n",
        "\n",
        "cleanDF[cleanDF['Deal Type']=='SELL'].describe().round(2)"
      ],
      "execution_count": null,
      "outputs": []
    },
    {
      "cell_type": "code",
      "metadata": {
        "scrolled": true,
        "id": "2Em-wG4xjMhP"
      },
      "source": [
        "for c in cleanDF.drop(['Deal Type','Comment','Link','Street Name','Street No.',\n",
        "                      'Alt. Price of sqm','Post Date','Price of sqm','Total Price',\n",
        "                      'Alt. Price'], axis=1).columns:\n",
        "    \n",
        "    if cleanDF[c].dtype == 'object' or c == 'Rooms':\n",
        "        fig = px.box(cleanDF[cleanDF['Deal Type']=='SELL'], x=c, y=\"Alt. Price of sqm\", points=\"all\", color=c)\n",
        "    elif c == 'Relative_Floor':\n",
        "        fig = px.histogram(cleanDF[cleanDF['Deal Type']=='SELL'], x=c, y=\"Alt. Price of sqm\", histfunc='avg')\n",
        "    else:\n",
        "        fig = px.scatter(cleanDF[cleanDF['Deal Type']=='SELL'], x=c, y=\"Alt. Price of sqm\", color=c)\n",
        "    fig.show()"
      ],
      "execution_count": null,
      "outputs": []
    },
    {
      "cell_type": "code",
      "metadata": {
        "id": "Gi_PSp1jjMhd"
      },
      "source": [
        "pca = PCA(n_components=4)\n",
        "\n",
        "data_scaled = cleanDF.loc[cleanDF['Deal Type']=='SELL',features+['Alt. Price of sqm']]\n",
        "\n",
        "components = pca.fit_transform(data_scaled.dropna())\n",
        "\n",
        "labels = {\n",
        "    str(i): f\"PC {i+1} ({var:.1f}%)\"\n",
        "    for i, var in enumerate(pca.explained_variance_ratio_ * 100)\n",
        "}\n",
        "\n",
        "pca_rent_results = pd.DataFrame(pca.components_, \n",
        "                                columns=data_scaled.columns,\n",
        "                                index = labels.values()).round(3)\n",
        "pca_rent_results"
      ],
      "execution_count": null,
      "outputs": []
    },
    {
      "cell_type": "code",
      "metadata": {
        "id": "iwlRtTQjjMht"
      },
      "source": [
        "fig = px.scatter_matrix(\n",
        "    components,\n",
        "    labels=labels,\n",
        "    dimensions=range(4)    \n",
        ")\n",
        "\n",
        "fig.update_traces(diagonal_visible=False)\n",
        "fig.show()"
      ],
      "execution_count": null,
      "outputs": []
    },
    {
      "cell_type": "code",
      "metadata": {
        "scrolled": false,
        "id": "NL0aRgmsjMh3"
      },
      "source": [
        "X = data_scaled.drop('Alt. Price of sqm', axis=1)\n",
        "y = cleanDF.loc[data_scaled.index, 'Price of sqm']\n",
        "\n",
        "linRegCorr['Sell'] = 0.0\n",
        "for c in X.columns:\n",
        "    linRegCorr.loc[c,'Sell'] = np.corrcoef(X[c],y)[1][0]\n",
        "\n",
        "linRegCorr"
      ],
      "execution_count": null,
      "outputs": []
    },
    {
      "cell_type": "code",
      "metadata": {
        "id": "n1V9jpy6jMiB"
      },
      "source": [
        "knn = neighbors.KNeighborsRegressor(n_neighbors=10, weights='distance')\n",
        "knn_model = knn.fit(X[:2*int(len(y)/3)], y[:2*int(len(y)/3)])\n",
        "knn_model.score(X[int(len(y)/3):], y[int(len(y)/3):])"
      ],
      "execution_count": null,
      "outputs": []
    },
    {
      "cell_type": "code",
      "metadata": {
        "id": "Em8TOW_SjMiP"
      },
      "source": [
        "reg = LinearRegression().fit(X, y)\n",
        "print('R2:', reg.score(X, y))\n",
        "rent_coefficients = pd.Series(reg.coef_, index=X.columns)\n",
        "px.bar(rent_coefficients, title='Regresijas koeficienti').show()\n",
        "print('Intercept', reg.intercept_)"
      ],
      "execution_count": null,
      "outputs": []
    },
    {
      "cell_type": "code",
      "metadata": {
        "id": "_ce1mJQXjMie"
      },
      "source": [
        "model = sm.OLS(y, X)\n",
        "results = model.fit()\n",
        "results.summary()"
      ],
      "execution_count": null,
      "outputs": []
    },
    {
      "cell_type": "markdown",
      "metadata": {
        "id": "OOj5GgbqjMin"
      },
      "source": [
        "### Visi darījumi"
      ]
    },
    {
      "cell_type": "code",
      "metadata": {
        "id": "l68qbmFGjMit"
      },
      "source": [
        "pca = PCA(n_components=4)\n",
        "\n",
        "data_scaled = cleanDF.loc[:,features+['Alt. Price of sqm']]\n",
        "\n",
        "components = pca.fit_transform(data_scaled.dropna())\n",
        "\n",
        "labels = {\n",
        "    str(i): f\"PC {i+1} ({var:.1f}%)\"\n",
        "    for i, var in enumerate(pca.explained_variance_ratio_ * 100)\n",
        "}\n",
        "\n",
        "pca_rent_results = pd.DataFrame(pca.components_, \n",
        "                                columns=data_scaled.columns,\n",
        "                                index = labels.values()).round(3)\n",
        "pca_rent_results"
      ],
      "execution_count": null,
      "outputs": []
    },
    {
      "cell_type": "code",
      "metadata": {
        "id": "1vy7oBAPjMi7"
      },
      "source": [
        "X = data_scaled.drop('Alt. Price of sqm', axis=1)\n",
        "y = cleanDF.loc[data_scaled.index, 'Price of sqm']\n",
        "\n",
        "linRegCorr['Overall'] = 0.0\n",
        "for c in X.columns:\n",
        "    linRegCorr.loc[c,'Overall'] = np.corrcoef(X[c],y)[1][0]\n",
        "\n",
        "linRegCorr"
      ],
      "execution_count": null,
      "outputs": []
    },
    {
      "cell_type": "code",
      "metadata": {
        "id": "aaWjIM1qjMjF"
      },
      "source": [
        "model = sm.OLS(y, X)\n",
        "results = model.fit()\n",
        "\n",
        "results.summary()"
      ],
      "execution_count": null,
      "outputs": []
    },
    {
      "cell_type": "code",
      "metadata": {
        "id": "kzItN0LcjMjT"
      },
      "source": [
        "knn = neighbors.KNeighborsRegressor(n_neighbors=10, weights='distance')\n",
        "knn_model = knn.fit(X[:2*int(len(y)/3)], y[:2*int(len(y)/3)])\n",
        "knn_model.score(X[int(len(y)/3):], y[int(len(y)/3):])"
      ],
      "execution_count": null,
      "outputs": []
    },
    {
      "cell_type": "markdown",
      "metadata": {
        "id": "hSB2E0nvjMjg"
      },
      "source": [
        "# Prezentācijai"
      ]
    },
    {
      "cell_type": "markdown",
      "metadata": {
        "id": "yQj43wMkjMjk"
      },
      "source": [
        "## Kavadrātmetru cenas un to vidējās vērtības"
      ]
    },
    {
      "cell_type": "code",
      "metadata": {
        "scrolled": false,
        "id": "pd0wLnspjMjm"
      },
      "source": [
        "for dealType in cleanDF['Deal Type'].drop_duplicates():\n",
        "    px.scatter(cleanDF[cleanDF['Deal Type']==dealType], \n",
        "               x='AVG_Price_SQM', y='Alt. Price of sqm', \n",
        "               color='AVG_Price_SQM', title=dealType).show()\n",
        "    korrKof = cleanDF.loc[cleanDF['Deal Type']==dealType, ['AVG_Price_SQM','Alt. Price of sqm']].corr().iloc[1,0]\n",
        "    print(f'Korelācijas koeficients: {round(100*korrKof,2)}%')\n",
        "    \n",
        "    fig = plt.figure(figsize=(14,3))\n",
        "    sn.heatmap(cleanDF[cleanDF['Deal Type']==dealType].corr().loc[['Price of sqm','Alt. Price of sqm', 'Total Price', \n",
        "                                                              'Alt. Price'],\n",
        "                                                             ['Rooms','Size','Floor','Relative_Floor',\n",
        "                                                             'Project_AVG','District_AVG']], annot=True)\n",
        "    plt.show()"
      ],
      "execution_count": null,
      "outputs": []
    },
    {
      "cell_type": "code",
      "metadata": {
        "scrolled": false,
        "id": "hUKKFrwjjMkA"
      },
      "source": [
        "px.scatter_3d(cleanDF, x='District', y='Project', z='Alt. Price of sqm', \n",
        "              color='Deal Type', symbol='Deal Type', opacity=0.85).show()"
      ],
      "execution_count": null,
      "outputs": []
    },
    {
      "cell_type": "markdown",
      "metadata": {
        "id": "FXQ_Vw7sjMkQ"
      },
      "source": [
        "## k-Tuvāko kaimiņu (KNN) metode vs Lineārā regresija "
      ]
    },
    {
      "cell_type": "code",
      "metadata": {
        "scrolled": false,
        "id": "hkiUWBmujMkS"
      },
      "source": [
        "postCounts = pd.crosstab(index=cleanDF['Post Date'], columns=cleanDF['Deal Type'])\n",
        "fig = px.bar(postCounts.sum(), title='Kopējais novērotais sludinājumu sakits pēc darījuma tipa')\n",
        "fig.update_layout(showlegend=False)\n",
        "fig.show()\n"
      ],
      "execution_count": null,
      "outputs": []
    },
    {
      "cell_type": "code",
      "metadata": {
        "id": "eGjSNsMrjMke"
      },
      "source": [
        "rent_X = cleanDF.loc[cleanDF['Deal Type']=='RENT',['Rooms','Size','Floor','Max. Floor',\n",
        "                                                   'Project_AVG','District_AVG','Relative_Floor']]\n",
        "sell_X = cleanDF.loc[cleanDF['Deal Type']=='SELL',['Rooms','Size','Floor','Max. Floor',\n",
        "                                                   'Project_AVG','District_AVG','Relative_Floor']]\n",
        "total_X = cleanDF.loc[:, ['Rooms','Size','Floor','Max. Floor','Project_AVG','District_AVG','Relative_Floor']]\n",
        "\n",
        "rent_y = cleanDF.loc[cleanDF['Deal Type']=='RENT', 'Alt. Price of sqm']\n",
        "sell_y = cleanDF.loc[cleanDF['Deal Type']=='SELL', 'Alt. Price of sqm']\n",
        "total_y = cleanDF.loc[:, 'Alt. Price of sqm']"
      ],
      "execution_count": null,
      "outputs": []
    },
    {
      "cell_type": "code",
      "metadata": {
        "id": "t-LXjgFYjMkt"
      },
      "source": [
        "rent_knn = neighbors.KNeighborsRegressor(n_neighbors=10, weights='distance')\n",
        "rent_model = rent_knn.fit(rent_X[:2*int(len(rent_y)/3)], rent_y[:2*int(len(rent_y)/3)])\n",
        "rent_R2 = rent_model.score(rent_X[int(len(rent_y)/3):], rent_y[int(len(rent_y)/3):])\n",
        "\n",
        "sell_knn = neighbors.KNeighborsRegressor(n_neighbors=10, weights='distance')\n",
        "sell_model = sell_knn.fit(sell_X[:2*int(len(sell_y)/3)], sell_y[:2*int(len(sell_y)/3)])\n",
        "sell_R2 = sell_model.score(sell_X[int(len(sell_y)/3):], sell_y[int(len(sell_y)/3):])\n",
        "\n",
        "total_knn = neighbors.KNeighborsRegressor(n_neighbors=10, weights='distance')\n",
        "total_model = sell_knn.fit(total_X[:2*int(len(total_y)/3)], total_y[:2*int(len(total_y)/3)])\n",
        "total_R2 = total_model.score(total_X[int(len(total_y)/3):], total_y[int(len(total_y)/3):])\n",
        "\n",
        "print(f'Īres dzīvokļiem tuvāko kaimiņu metodes R2: {round(100*rent_R2,2)}%')\n",
        "print(f'Pārdošanas dzīvokļiem tuvāko kaimiņu metodes R2: {round(100*sell_R2,2)}%')\n",
        "print(f'Visiem dzīvokļiem tuvāko kaimiņu metodes R2: {round(100*total_R2,2)}%')"
      ],
      "execution_count": null,
      "outputs": []
    },
    {
      "cell_type": "code",
      "metadata": {
        "id": "hjE45jogjMk9"
      },
      "source": [
        "rent_X = rent_X.drop(['Floor','Max. Floor','Relative_Floor'], axis=1)\n",
        "sell_X = sell_X.drop(['Floor','Max. Floor','Relative_Floor'], axis=1)\n",
        "total_X = total_X.drop(['Floor','Max. Floor','Relative_Floor'], axis=1)"
      ],
      "execution_count": null,
      "outputs": []
    },
    {
      "cell_type": "code",
      "metadata": {
        "scrolled": false,
        "id": "N3usmVlYjMlL"
      },
      "source": [
        "rent_LR_model = sm.OLS(rent_y, rent_X).fit()\n",
        "sell_LR_model = sm.OLS(sell_y, sell_X).fit()\n",
        "total_LR_model = sm.OLS(total_y, total_X).fit()\n",
        "\n",
        "print('ĪRES DZĪVOKĻI'.center(85))\n",
        "print(rent_LR_model.summary())\n",
        "print()\n",
        "\n",
        "print('PĀRDOŠANAS DZĪVOKĻI'.center(85))\n",
        "print(sell_LR_model.summary())\n",
        "print()\n",
        "\n",
        "print('VISI DZĪVOKĻI'.center(85))\n",
        "print(total_LR_model.summary())"
      ],
      "execution_count": null,
      "outputs": []
    },
    {
      "cell_type": "markdown",
      "metadata": {
        "id": "tHMIlK_7jMlZ"
      },
      "source": [
        "## Kvadrātmetra cena pēc rajona un projekta"
      ]
    },
    {
      "cell_type": "code",
      "metadata": {
        "id": "EOAKk3EhjMlb"
      },
      "source": [
        "fig = px.box(cleanDF, x='District', y=\"Alt. Price of sqm\", color='Project')\n",
        "fig.show()"
      ],
      "execution_count": null,
      "outputs": []
    },
    {
      "cell_type": "markdown",
      "metadata": {
        "id": "qpZhPrBMjMlo"
      },
      "source": [
        "# Potenciālās dzīvokļa cenas noteikšana"
      ]
    },
    {
      "cell_type": "code",
      "metadata": {
        "id": "f3C66ipRjMlp"
      },
      "source": [
        "import ipywidgets as widgets\n",
        "\n",
        "project = widgets.Dropdown(options=cleanDF['Project'].drop_duplicates().sort_values().to_list(), description='Projekts:')\n",
        "district = widgets.Dropdown(options=cleanDF['District'].drop_duplicates().sort_values().to_list(),description='Rajons:')\n",
        "dealTypeLV = widgets.Dropdown(options=['Pirkt','Īrēt'], description='Darījums:')\n",
        "\n",
        "project"
      ],
      "execution_count": null,
      "outputs": []
    },
    {
      "cell_type": "code",
      "metadata": {
        "id": "Rz5lOiu4jMlz"
      },
      "source": [
        "district"
      ],
      "execution_count": null,
      "outputs": []
    },
    {
      "cell_type": "code",
      "metadata": {
        "id": "Boj9aFCAjMmH"
      },
      "source": [
        "dealTypeLV"
      ],
      "execution_count": null,
      "outputs": []
    },
    {
      "cell_type": "code",
      "metadata": {
        "id": "SajFF7TcjMmb"
      },
      "source": [
        "rooms = int(input('Ievadiet dzīvokļa istabu skaitu: '))\n",
        "size = float(input('Ievadiet dzīvokļa izmēru kvadrātmetros: '))"
      ],
      "execution_count": null,
      "outputs": []
    },
    {
      "cell_type": "code",
      "metadata": {
        "id": "-ft-2IGOjMnT"
      },
      "source": [
        "model = {'Pirkt':sell_LR_model,'Īrēt':rent_LR_model}[dealTypeLV.value]\n",
        "dealType = {'Pirkt':'SELL','Īrēt':'RENT'}[dealTypeLV.value]\n",
        "\n",
        "project_AVG = cleanDF.loc[np.logical_and(cleanDF['Deal Type']==dealType,\n",
        "                                         cleanDF['Project']==project.value),'Project_AVG'].mean()\n",
        "district_AVG = cleanDF.loc[np.logical_and(cleanDF['Deal Type']==dealType,\n",
        "                                          cleanDF['District']==district.value),'District_AVG'].mean()\n",
        "\n",
        "if dealType == 'RENT':\n",
        "    price = size*np.dot(model.params, pd.Series([rooms,size,project_AVG, district_AVG]))/120\n",
        "    print(f'Dzīvokļa potenciālā īres cena: {round(price,1)} EUR.')\n",
        "else:\n",
        "    price = size * np.dot(model.params, pd.Series([rooms,size,project_AVG, district_AVG]))\n",
        "    print(f'Dzīvokļa potenciālā pirkuma cena: {round(price,1)} EUR.')"
      ],
      "execution_count": null,
      "outputs": []
    }
  ]
}